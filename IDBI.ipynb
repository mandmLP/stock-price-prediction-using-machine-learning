{
 "cells": [
  {
   "cell_type": "code",
   "execution_count": 4,
   "id": "neural-administrator",
   "metadata": {},
   "outputs": [],
   "source": [
    "#importing the library\n",
    "import numpy as np\n",
    "import matplotlib.pyplot as plt\n",
    "import pandas as pd\n",
    "import datetime"
   ]
  },
  {
   "cell_type": "code",
   "execution_count": 5,
   "id": "assumed-floating",
   "metadata": {
    "scrolled": true
   },
   "outputs": [
    {
     "data": {
      "text/html": [
       "<div>\n",
       "<style scoped>\n",
       "    .dataframe tbody tr th:only-of-type {\n",
       "        vertical-align: middle;\n",
       "    }\n",
       "\n",
       "    .dataframe tbody tr th {\n",
       "        vertical-align: top;\n",
       "    }\n",
       "\n",
       "    .dataframe thead th {\n",
       "        text-align: right;\n",
       "    }\n",
       "</style>\n",
       "<table border=\"1\" class=\"dataframe\">\n",
       "  <thead>\n",
       "    <tr style=\"text-align: right;\">\n",
       "      <th></th>\n",
       "      <th>Date</th>\n",
       "      <th>Open Price</th>\n",
       "      <th>High Price</th>\n",
       "      <th>Low Price</th>\n",
       "      <th>Close Price</th>\n",
       "      <th>WAP</th>\n",
       "      <th>No.of Shares</th>\n",
       "      <th>No. of Trades</th>\n",
       "      <th>Total Turnover (Rs.)</th>\n",
       "      <th>Deliverable Quantity</th>\n",
       "      <th>% Deli. Qty to Traded Qty</th>\n",
       "      <th>Spread High-Low</th>\n",
       "      <th>Spread Close-Open</th>\n",
       "    </tr>\n",
       "  </thead>\n",
       "  <tbody>\n",
       "    <tr>\n",
       "      <th>0</th>\n",
       "      <td>1-January-2013</td>\n",
       "      <td>112.10</td>\n",
       "      <td>114.45</td>\n",
       "      <td>112.10</td>\n",
       "      <td>113.65</td>\n",
       "      <td>113.468955</td>\n",
       "      <td>362975</td>\n",
       "      <td>3043</td>\n",
       "      <td>41186394</td>\n",
       "      <td>135707.0</td>\n",
       "      <td>37.39</td>\n",
       "      <td>2.35</td>\n",
       "      <td>1.55</td>\n",
       "    </tr>\n",
       "    <tr>\n",
       "      <th>1</th>\n",
       "      <td>2-January-2013</td>\n",
       "      <td>114.95</td>\n",
       "      <td>115.50</td>\n",
       "      <td>114.15</td>\n",
       "      <td>114.60</td>\n",
       "      <td>114.804688</td>\n",
       "      <td>520343</td>\n",
       "      <td>4227</td>\n",
       "      <td>59737816</td>\n",
       "      <td>231580.0</td>\n",
       "      <td>44.51</td>\n",
       "      <td>1.35</td>\n",
       "      <td>-0.35</td>\n",
       "    </tr>\n",
       "    <tr>\n",
       "      <th>2</th>\n",
       "      <td>3-January-2013</td>\n",
       "      <td>115.00</td>\n",
       "      <td>115.80</td>\n",
       "      <td>113.40</td>\n",
       "      <td>114.50</td>\n",
       "      <td>114.811430</td>\n",
       "      <td>284632</td>\n",
       "      <td>2393</td>\n",
       "      <td>32679007</td>\n",
       "      <td>84922.0</td>\n",
       "      <td>29.84</td>\n",
       "      <td>2.40</td>\n",
       "      <td>-0.50</td>\n",
       "    </tr>\n",
       "    <tr>\n",
       "      <th>3</th>\n",
       "      <td>4-January-2013</td>\n",
       "      <td>114.60</td>\n",
       "      <td>116.90</td>\n",
       "      <td>113.70</td>\n",
       "      <td>116.55</td>\n",
       "      <td>115.252481</td>\n",
       "      <td>647637</td>\n",
       "      <td>3551</td>\n",
       "      <td>74641771</td>\n",
       "      <td>323470.0</td>\n",
       "      <td>49.95</td>\n",
       "      <td>3.20</td>\n",
       "      <td>1.95</td>\n",
       "    </tr>\n",
       "    <tr>\n",
       "      <th>4</th>\n",
       "      <td>7-January-2013</td>\n",
       "      <td>116.95</td>\n",
       "      <td>117.70</td>\n",
       "      <td>115.70</td>\n",
       "      <td>116.25</td>\n",
       "      <td>116.856159</td>\n",
       "      <td>323843</td>\n",
       "      <td>2675</td>\n",
       "      <td>37843049</td>\n",
       "      <td>90884.0</td>\n",
       "      <td>28.06</td>\n",
       "      <td>2.00</td>\n",
       "      <td>-0.70</td>\n",
       "    </tr>\n",
       "  </tbody>\n",
       "</table>\n",
       "</div>"
      ],
      "text/plain": [
       "             Date  Open Price  High Price  Low Price  Close Price         WAP  \\\n",
       "0  1-January-2013      112.10      114.45     112.10       113.65  113.468955   \n",
       "1  2-January-2013      114.95      115.50     114.15       114.60  114.804688   \n",
       "2  3-January-2013      115.00      115.80     113.40       114.50  114.811430   \n",
       "3  4-January-2013      114.60      116.90     113.70       116.55  115.252481   \n",
       "4  7-January-2013      116.95      117.70     115.70       116.25  116.856159   \n",
       "\n",
       "   No.of Shares  No. of Trades  Total Turnover (Rs.)  Deliverable Quantity  \\\n",
       "0        362975           3043              41186394              135707.0   \n",
       "1        520343           4227              59737816              231580.0   \n",
       "2        284632           2393              32679007               84922.0   \n",
       "3        647637           3551              74641771              323470.0   \n",
       "4        323843           2675              37843049               90884.0   \n",
       "\n",
       "   % Deli. Qty to Traded Qty  Spread High-Low  Spread Close-Open  \n",
       "0                      37.39             2.35               1.55  \n",
       "1                      44.51             1.35              -0.35  \n",
       "2                      29.84             2.40              -0.50  \n",
       "3                      49.95             3.20               1.95  \n",
       "4                      28.06             2.00              -0.70  "
      ]
     },
     "execution_count": 5,
     "metadata": {},
     "output_type": "execute_result"
    }
   ],
   "source": [
    "#collecting data\n",
    "dataset = pd.read_csv('IDBI.csv')\n",
    "dataset.head()"
   ]
  },
  {
   "cell_type": "code",
   "execution_count": 6,
   "id": "empty-gauge",
   "metadata": {},
   "outputs": [
    {
     "data": {
      "text/plain": [
       "Date                         False\n",
       "Open Price                   False\n",
       "High Price                   False\n",
       "Low Price                    False\n",
       "Close Price                  False\n",
       "WAP                          False\n",
       "No.of Shares                 False\n",
       "No. of Trades                False\n",
       "Total Turnover (Rs.)         False\n",
       "Deliverable Quantity          True\n",
       "% Deli. Qty to Traded Qty     True\n",
       "Spread High-Low              False\n",
       "Spread Close-Open            False\n",
       "dtype: bool"
      ]
     },
     "execution_count": 6,
     "metadata": {},
     "output_type": "execute_result"
    }
   ],
   "source": [
    "dataset.isna().any()"
   ]
  },
  {
   "cell_type": "code",
   "execution_count": 7,
   "id": "vanilla-tours",
   "metadata": {},
   "outputs": [
    {
     "name": "stdout",
     "output_type": "stream",
     "text": [
      "<class 'pandas.core.frame.DataFrame'>\n",
      "RangeIndex: 2049 entries, 0 to 2048\n",
      "Data columns (total 13 columns):\n",
      " #   Column                     Non-Null Count  Dtype  \n",
      "---  ------                     --------------  -----  \n",
      " 0   Date                       2049 non-null   object \n",
      " 1   Open Price                 2049 non-null   float64\n",
      " 2   High Price                 2049 non-null   float64\n",
      " 3   Low Price                  2049 non-null   float64\n",
      " 4   Close Price                2049 non-null   float64\n",
      " 5   WAP                        2049 non-null   float64\n",
      " 6   No.of Shares               2049 non-null   int64  \n",
      " 7   No. of Trades              2049 non-null   int64  \n",
      " 8   Total Turnover (Rs.)       2049 non-null   int64  \n",
      " 9   Deliverable Quantity       2048 non-null   float64\n",
      " 10  % Deli. Qty to Traded Qty  2048 non-null   float64\n",
      " 11  Spread High-Low            2049 non-null   float64\n",
      " 12  Spread Close-Open          2049 non-null   float64\n",
      "dtypes: float64(9), int64(3), object(1)\n",
      "memory usage: 208.2+ KB\n"
     ]
    }
   ],
   "source": [
    "dataset.info()"
   ]
  },
  {
   "cell_type": "code",
   "execution_count": 8,
   "id": "activated-australia",
   "metadata": {},
   "outputs": [
    {
     "data": {
      "text/plain": [
       "<AxesSubplot:>"
      ]
     },
     "execution_count": 8,
     "metadata": {},
     "output_type": "execute_result"
    },
    {
     "data": {
      "image/png": "[encoded data removed]",
      "text/plain": [
       "<Figure size 1152x432 with 1 Axes>"
      ]
     },
     "metadata": {
      "needs_background": "light"
     },
     "output_type": "display_data"
    }
   ],
   "source": [
    "dataset['Close Price'].plot(figsize=(16,6))"
   ]
  },
  {
   "cell_type": "code",
   "execution_count": 9,
   "id": "mobile-front",
   "metadata": {},
   "outputs": [
    {
     "data": {
      "text/plain": [
       "0       113.65\n",
       "1       114.60\n",
       "2       114.50\n",
       "3       116.55\n",
       "4       116.25\n",
       "         ...  \n",
       "2044     37.85\n",
       "2045     37.20\n",
       "2046     37.10\n",
       "2047     33.80\n",
       "2048     37.05\n",
       "Name: Close Price, Length: 2049, dtype: float64"
      ]
     },
     "execution_count": 9,
     "metadata": {},
     "output_type": "execute_result"
    }
   ],
   "source": [
    "dataset2=dataset.reset_index()['Close Price']\n",
    "dataset2[:]"
   ]
  },
  {
   "cell_type": "code",
   "execution_count": 10,
   "id": "historic-intro",
   "metadata": {},
   "outputs": [],
   "source": [
    "#LSTM are sensitive to the scale of the data, so we apply minmax scaler"
   ]
  },
  {
   "cell_type": "code",
   "execution_count": 11,
   "id": "tired-breast",
   "metadata": {},
   "outputs": [],
   "source": [
    "from sklearn.preprocessing import MinMaxScaler\n",
    "scaler=MinMaxScaler(feature_range=(0,1))\n",
    "dataset2=scaler.fit_transform(np.array(dataset2).reshape(-1,1))"
   ]
  },
  {
   "cell_type": "code",
   "execution_count": 12,
   "id": "mature-helicopter",
   "metadata": {},
   "outputs": [
    {
     "name": "stdout",
     "output_type": "stream",
     "text": [
      "[[0.96965099]\n",
      " [0.97926151]\n",
      " [0.97824987]\n",
      " ...\n",
      " [0.19524532]\n",
      " [0.16186141]\n",
      " [0.1947395 ]]\n"
     ]
    }
   ],
   "source": [
    "print(dataset2)"
   ]
  },
  {
   "cell_type": "code",
   "execution_count": 13,
   "id": "wanted-debut",
   "metadata": {},
   "outputs": [],
   "source": [
    "#splitting data set into train and test split\n",
    "training_size=int(len(dataset2)*0.65)\n",
    "test_size=len(dataset2)-training_size\n",
    "train_data=dataset2[0:training_size , :]\n",
    "test_data=dataset2[training_size:len(dataset2),:1]"
   ]
  },
  {
   "cell_type": "code",
   "execution_count": 14,
   "id": "sexual-funds",
   "metadata": {},
   "outputs": [
    {
     "name": "stdout",
     "output_type": "stream",
     "text": [
      "1331 718\n"
     ]
    }
   ],
   "source": [
    "print(training_size , test_size)"
   ]
  },
  {
   "cell_type": "code",
   "execution_count": 15,
   "id": "eligible-dining",
   "metadata": {
    "scrolled": true
   },
   "outputs": [],
   "source": [
    "import numpy\n",
    "#convert an array of value into a dataset matrix\n",
    "def create_dataset(dset,time_step=1):\n",
    "    dataX , dataY = [], []\n",
    "    for i in range(len(dset)-time_step-1):\n",
    "        a = dset[i:(i+time_step), 0]\n",
    "        dataX.append(a)\n",
    "        dataY.append(dset[i + time_step,0])\n",
    "    return numpy.array(dataX) , numpy.array(dataY)"
   ]
  },
  {
   "cell_type": "code",
   "execution_count": 16,
   "id": "critical-filing",
   "metadata": {},
   "outputs": [],
   "source": [
    "#reshape into X=t, t+1,t+2,t+3 nad Y=t+4\n",
    "time_step = 100\n",
    "X_train , Y_train = create_dataset(train_data, time_step)\n",
    "X_test , Y_test = create_dataset(test_data, time_step)"
   ]
  },
  {
   "cell_type": "code",
   "execution_count": 17,
   "id": "female-navigator",
   "metadata": {},
   "outputs": [
    {
     "name": "stdout",
     "output_type": "stream",
     "text": [
      "[[0.96965099 0.97926151 0.97824987 ... 0.70763784 0.67880627 0.68133536]\n",
      " [0.97926151 0.97824987 0.99898837 ... 0.67880627 0.68133536 0.68437026]\n",
      " [0.97824987 0.99898837 0.99595346 ... 0.68133536 0.68437026 0.69044006]\n",
      " ...\n",
      " [0.40971168 0.41375822 0.41274659 ... 0.49822964 0.49873546 0.46079919]\n",
      " [0.41375822 0.41274659 0.4162873  ... 0.49873546 0.46079919 0.45017704]\n",
      " [0.41274659 0.4162873  0.43449671 ... 0.46079919 0.45017704 0.44865959]] [0.68437026 0.69044006 0.66970157 ... 0.45017704 0.44865959 0.45270612]\n"
     ]
    }
   ],
   "source": [
    "print(X_train, Y_train)\n"
   ]
  },
  {
   "cell_type": "code",
   "execution_count": 18,
   "id": "interpreted-panic",
   "metadata": {},
   "outputs": [
    {
     "name": "stdout",
     "output_type": "stream",
     "text": [
      "[[0.44815377 0.45169449 0.48963075 ... 0.41729894 0.41476985 0.41679312]\n",
      " [0.45169449 0.48963075 0.49974709 ... 0.41476985 0.41679312 0.42033384]\n",
      " [0.48963075 0.49974709 0.47850278 ... 0.41679312 0.42033384 0.42286292]\n",
      " ...\n",
      " [0.20030349 0.19524532 0.19423369 ... 0.20586748 0.20435003 0.20283257]\n",
      " [0.19524532 0.19423369 0.19726859 ... 0.20435003 0.20283257 0.19625695]\n",
      " [0.19423369 0.19726859 0.19878604 ... 0.20283257 0.19625695 0.19524532]] [0.42033384 0.42286292 0.41831057 0.42083966 0.41780475 0.41831057\n",
      " 0.41831057 0.41982802 0.42134547 0.42185129 0.42387456 0.41982802\n",
      " 0.41982802 0.41780475 0.42336874 0.42033384 0.42083966 0.43955488\n",
      " 0.43045018 0.42589782 0.43196763 0.43449671 0.43601416 0.4339909\n",
      " 0.42943854 0.43045018 0.42690946 0.42792109 0.42893273 0.42640364\n",
      " 0.42589782 0.42286292 0.42185129 0.42539201 0.4339909  0.42994436\n",
      " 0.42893273 0.42842691 0.43601416 0.43904906 0.44410723 0.4370258\n",
      " 0.43904906 0.4430956  0.44764795 0.44360142 0.44461305 0.4400607\n",
      " 0.43803743 0.43803743 0.44107233 0.4400607  0.44107233 0.44056651\n",
      " 0.44056651 0.44107233 0.4400607  0.44865959 0.47445625 0.45422357\n",
      " 0.45978756 0.45422357 0.44360142 0.44764795 0.43348508 0.4102175\n",
      " 0.39150228 0.39858371 0.39200809 0.38796156 0.37632777 0.36267071\n",
      " 0.38846737 0.37025797 0.37885685 0.35407183 0.3323217  0.29590288\n",
      " 0.26403642 0.26454224 0.25796662 0.25543753 0.25796662 0.25695498\n",
      " 0.27668184 0.27364694 0.24785028 0.25037936 0.26150733 0.27516439\n",
      " 0.25695498 0.25493171 0.24785028 0.24178048 0.25392008 0.26858877\n",
      " 0.28932726 0.28325746 0.26555387 0.25897825 0.27415276 0.27263531\n",
      " 0.25644917 0.25594335 0.25392008 0.25897825 0.25847243 0.25644917\n",
      " 0.251391   0.24430956 0.24886191 0.24936773 0.27010622 0.29185635\n",
      " 0.28780981 0.28477491 0.2696004  0.26605969 0.27111786 0.26605969\n",
      " 0.2635306  0.26403642 0.26302479 0.26605969 0.26403642 0.26555387\n",
      " 0.25897825 0.25037936 0.24987355 0.25644917 0.26302479 0.25290845\n",
      " 0.2185129  0.22508852 0.22407688 0.20940819 0.19676277 0.19524532\n",
      " 0.19929186 0.19777441 0.16894284 0.18715225 0.16843703 0.16793121\n",
      " 0.16793121 0.19979767 0.17855336 0.18917552 0.18715225 0.19929186\n",
      " 0.20333839 0.20384421 0.19423369 0.20384421 0.20080931 0.19322205\n",
      " 0.2215478  0.19676277 0.19069297 0.18917552 0.19271624 0.18816388\n",
      " 0.18614062 0.18310572 0.17551846 0.17197774 0.16388467 0.16691958\n",
      " 0.17046029 0.16894284 0.17501265 0.18411735 0.18310572 0.17905918\n",
      " 0.18361153 0.18512898 0.19372787 0.20080931 0.18361153 0.16691958\n",
      " 0.17248356 0.16843703 0.17248356 0.17349519 0.17046029 0.17400101\n",
      " 0.17602428 0.16894284 0.16388467 0.15781487 0.15123925 0.14213455\n",
      " 0.13151239 0.13606474 0.12493677 0.09964593 0.10015175 0.10520991\n",
      " 0.10419828 0.10419828 0.10520991 0.09610521 0.10015175 0.09661103\n",
      " 0.09104704 0.09458776 0.07132018 0.10318665 0.08952959 0.07688417\n",
      " 0.06727365 0.06980273 0.10419828 0.11785534 0.09054122 0.08447142\n",
      " 0.09054122 0.11127972 0.09357613 0.09559939 0.1016692  0.10318665\n",
      " 0.10622155 0.10571573 0.1107739  0.10571573 0.10015175 0.10116338\n",
      " 0.09458776 0.1107739  0.13201821 0.16540212 0.19271624 0.18108245\n",
      " 0.15933232 0.1406171  0.12797167 0.13201821 0.12898331 0.1198786\n",
      " 0.12190187 0.11937279 0.11836115 0.11482044 0.11330298 0.11431462\n",
      " 0.12291351 0.13050076 0.13201821 0.12999494 0.12797167 0.13050076\n",
      " 0.13252403 0.15073343 0.15629742 0.1557916  0.16337886 0.17349519\n",
      " 0.16186141 0.15933232 0.15983814 0.15174507 0.15730905 0.14516945\n",
      " 0.14213455 0.1527567  0.15225089 0.16236722 0.16236722 0.15730905\n",
      " 0.21193728 0.20030349 0.18664643 0.1856348  0.20485584 0.20131512\n",
      " 0.19625695 0.18411735 0.1856348  0.1825999  0.17046029 0.16540212\n",
      " 0.1588265  0.16135559 0.19322205 0.20940819 0.20485584 0.19878604\n",
      " 0.19423369 0.19726859 0.19777441 0.20182094 0.19726859 0.19524532\n",
      " 0.19777441 0.19575114 0.19423369 0.19524532 0.19929186 0.19625695\n",
      " 0.18108245 0.18209408 0.17703591 0.18158827 0.18715225 0.18614062\n",
      " 0.18361153 0.18209408 0.18462317 0.18209408 0.17855336 0.18158827\n",
      " 0.17905918 0.17855336 0.17855336 0.17298938 0.17096611 0.16894284\n",
      " 0.16439049 0.16287304 0.19726859 0.17551846 0.16944866 0.16641376\n",
      " 0.17147193 0.18664643 0.18664643 0.19423369 0.17147193 0.18158827\n",
      " 0.17804755 0.16894284 0.16489631 0.16995448 0.16944866 0.16590794\n",
      " 0.16540212 0.15781487 0.15528579 0.12948912 0.1198786  0.11785534\n",
      " 0.10824482 0.12240769 0.09458776 0.07435508 0.07991907 0.03540718\n",
      " 0.05513404 0.04653515 0.03945372 0.02933738 0.02529084 0.04400607\n",
      " 0.01568032 0.00657562 0.         0.01416287 0.01922104 0.01213961\n",
      " 0.01517451 0.01517451 0.01719777 0.02276176 0.02073849 0.03490137\n",
      " 0.0298432  0.02781993 0.0298432  0.03388973 0.04704097 0.03338392\n",
      " 0.035913   0.03641882 0.0328781  0.0328781  0.0328781  0.03490137\n",
      " 0.03743045 0.0298432  0.02781993 0.02579666 0.02579666 0.02326758\n",
      " 0.02175013 0.02276176 0.03085483 0.02731411 0.02478503 0.01568032\n",
      " 0.01669196 0.01618614 0.01719777 0.01820941 0.01871523 0.02073849\n",
      " 0.02276176 0.02529084 0.06626201 0.11279717 0.14162873 0.17349519\n",
      " 0.20839656 0.19726859 0.17855336 0.16084977 0.14415781 0.14011128\n",
      " 0.1557916  0.14415781 0.14264036 0.14264036 0.1406171  0.1527567\n",
      " 0.16843703 0.1856348  0.20384421 0.22255943 0.24228629 0.26302479\n",
      " 0.28477491 0.30753667 0.33181588 0.35710673 0.33029843 0.30500759\n",
      " 0.28123419 0.25847243 0.23672231 0.21598381 0.22357107 0.20738493\n",
      " 0.20536166 0.2245827  0.21901872 0.2124431  0.215478   0.20839656\n",
      " 0.19322205 0.20687911 0.22610015 0.23014669 0.21143146 0.21800708\n",
      " 0.20991401 0.21396055 0.21750126 0.2276176  0.22255943 0.22255943\n",
      " 0.22407688 0.22104198 0.21294891 0.21041983 0.22104198 0.22306525\n",
      " 0.21800708 0.2574608  0.24633283 0.24329793 0.24127466 0.23722812\n",
      " 0.24026302 0.21800708 0.2124431  0.21952453 0.215478   0.20839656\n",
      " 0.20940819 0.20586748 0.19676277 0.20333839 0.20435003 0.20030349\n",
      " 0.20030349 0.20182094 0.19878604 0.19524532 0.18361153 0.17501265\n",
      " 0.16843703 0.15225089 0.16287304 0.17450683 0.17804755 0.17147193\n",
      " 0.17248356 0.16843703 0.17046029 0.16641376 0.16742539 0.17096611\n",
      " 0.17046029 0.16489631 0.16894284 0.15983814 0.21294891 0.20232676\n",
      " 0.20030349 0.20030349 0.21648963 0.22205362 0.21041983 0.20283257\n",
      " 0.19676277 0.19271624 0.1886697  0.18917552 0.1856348  0.1825999\n",
      " 0.18664643 0.18664643 0.19221042 0.19372787 0.20030349 0.19524532\n",
      " 0.19423369 0.19726859 0.19878604 0.20131512 0.19777441 0.19828022\n",
      " 0.20536166 0.20182094 0.20333839 0.20384421 0.20536166 0.20890238\n",
      " 0.20536166 0.21648963 0.2215478  0.23773394 0.24987355 0.24380374\n",
      " 0.2306525  0.23419322 0.23571067 0.24886191 0.24734446 0.23672231\n",
      " 0.22964087 0.20536166 0.16236722 0.1527567  0.14264036 0.14314618\n",
      " 0.13859383 0.13252403 0.13454729 0.1466869  0.143652   0.14112291\n",
      " 0.1406171  0.13859383 0.13909965 0.13505311 0.14516945 0.13909965\n",
      " 0.13707638 0.12948912 0.12240769 0.11583207 0.10672736 0.09509358\n",
      " 0.09610521 0.09104704 0.10015175 0.10622155 0.10065756 0.13353566\n",
      " 0.12392514 0.12240769 0.12999494 0.12190187 0.11836115 0.12443096\n",
      " 0.1198786  0.1198786  0.11330298 0.11279717 0.11127972 0.13050076\n",
      " 0.14719272 0.13808801 0.12493677 0.12291351 0.12645422 0.13151239\n",
      " 0.13909965 0.14162873 0.13808801 0.17855336 0.19979767 0.18715225\n",
      " 0.18411735 0.18816388 0.20687911 0.24481538 0.22812342 0.21092564\n",
      " 0.1825999  0.17298938 0.19777441 0.19828022 0.2185129  0.20435003\n",
      " 0.20283257 0.20536166 0.21092564 0.20991401 0.21446636 0.20586748\n",
      " 0.20435003 0.20283257 0.19625695 0.19524532 0.16186141]\n"
     ]
    }
   ],
   "source": [
    "print(X_test, Y_test)"
   ]
  },
  {
   "cell_type": "code",
   "execution_count": 19,
   "id": "ultimate-ratio",
   "metadata": {},
   "outputs": [],
   "source": [
    "# reshape input to be [sample , time_steps  , features] which is required for LSTM\n",
    "X_train = X_train.reshape(X_train.shape[0] , X_train.shape[1] , 1)\n",
    "X_test = X_test.reshape(X_test.shape[0],X_test.shape[1],1)"
   ]
  },
  {
   "cell_type": "code",
   "execution_count": 20,
   "id": "third-commander",
   "metadata": {},
   "outputs": [],
   "source": [
    "#create the stacked LSTM model\n",
    "from tensorflow.keras.models import Sequential\n",
    "from tensorflow.keras.layers import Dense\n",
    "from tensorflow.keras.layers import LSTM"
   ]
  },
  {
   "cell_type": "code",
   "execution_count": 21,
   "id": "right-membership",
   "metadata": {},
   "outputs": [],
   "source": [
    "model=Sequential()\n",
    "model.add(LSTM(50,return_sequences=True,input_shape=(100,1)))\n",
    "model.add(LSTM(50,return_sequences=True))\n",
    "model.add(LSTM(50))\n",
    "model.add(Dense(1))\n",
    "model.compile(loss='mean_squared_error' , optimizer='adam')"
   ]
  },
  {
   "cell_type": "code",
   "execution_count": 19,
   "id": "toxic-quantity",
   "metadata": {
    "scrolled": true
   },
   "outputs": [
    {
     "name": "stdout",
     "output_type": "stream",
     "text": [
      "Model: \"sequential\"\n",
      "_________________________________________________________________\n",
      "Layer (type)                 Output Shape              Param #   \n",
      "=================================================================\n",
      "lstm (LSTM)                  (None, 100, 50)           10400     \n",
      "_________________________________________________________________\n",
      "lstm_1 (LSTM)                (None, 100, 50)           20200     \n",
      "_________________________________________________________________\n",
      "lstm_2 (LSTM)                (None, 50)                20200     \n",
      "_________________________________________________________________\n",
      "dense (Dense)                (None, 1)                 51        \n",
      "=================================================================\n",
      "Total params: 50,851\n",
      "Trainable params: 50,851\n",
      "Non-trainable params: 0\n",
      "_________________________________________________________________\n"
     ]
    }
   ],
   "source": [
    "model.summary()"
   ]
  },
  {
   "cell_type": "code",
   "execution_count": null,
   "id": "recreational-dynamics",
   "metadata": {
    "scrolled": false
   },
   "outputs": [
    {
     "name": "stdout",
     "output_type": "stream",
     "text": [
      "Epoch 1/100\n",
      "20/20 [==============================] - 23s 563ms/step - loss: 0.1069 - val_loss: 0.0145\n",
      "Epoch 2/100\n",
      "20/20 [==============================] - 7s 368ms/step - loss: 0.0063 - val_loss: 0.0179\n",
      "Epoch 3/100\n",
      "20/20 [==============================] - 7s 346ms/step - loss: 0.0054 - val_loss: 0.0149\n",
      "Epoch 4/100\n",
      "15/20 [=====================>........] - ETA: 1s - loss: 0.0037"
     ]
    }
   ],
   "source": [
    "model.fit(X_train,Y_train, validation_data=(X_test,Y_test),epochs=100,batch_size=64,verbose=1)"
   ]
  },
  {
   "cell_type": "code",
   "execution_count": 22,
   "id": "plain-archives",
   "metadata": {},
   "outputs": [],
   "source": [
    "import tensorflow as tf"
   ]
  },
  {
   "cell_type": "code",
   "execution_count": 23,
   "id": "coordinate-dimension",
   "metadata": {},
   "outputs": [],
   "source": [
    "#PREDICTION AND CHECK PERFORMANCE METRICS\n",
    "train_predict=model.predict(X_train)\n",
    "test_predict=model.predict(X_test)"
   ]
  },
  {
   "cell_type": "code",
   "execution_count": 24,
   "id": "falling-thumbnail",
   "metadata": {},
   "outputs": [],
   "source": [
    "# transform to original form\n",
    "train_predict=scaler.inverse_transform(train_predict)\n",
    "test_predict=scaler.inverse_transform(test_predict)\n"
   ]
  },
  {
   "cell_type": "code",
   "execution_count": 25,
   "id": "amateur-massachusetts",
   "metadata": {},
   "outputs": [
    {
     "data": {
      "text/plain": [
       "19.72110030400763"
      ]
     },
     "execution_count": 25,
     "metadata": {},
     "output_type": "execute_result"
    }
   ],
   "source": [
    "#calculating RSME performance\n",
    "import math\n",
    "from sklearn.metrics import mean_squared_error\n",
    "math.sqrt(mean_squared_error(Y_train,train_predict))"
   ]
  },
  {
   "cell_type": "code",
   "execution_count": 26,
   "id": "executive-herald",
   "metadata": {},
   "outputs": [
    {
     "data": {
      "text/plain": [
       "18.498087276199943"
      ]
     },
     "execution_count": 26,
     "metadata": {},
     "output_type": "execute_result"
    }
   ],
   "source": [
    "#Test Data RSME\n",
    "math.sqrt(mean_squared_error(Y_test,test_predict))"
   ]
  },
  {
   "cell_type": "code",
   "execution_count": 27,
   "id": "mechanical-foundation",
   "metadata": {},
   "outputs": [
    {
     "data": {
      "text/plain": [
       "718"
      ]
     },
     "execution_count": 27,
     "metadata": {},
     "output_type": "execute_result"
    }
   ],
   "source": [
    "len(test_data)"
   ]
  },
  {
   "cell_type": "code",
   "execution_count": 28,
   "id": "refined-camel",
   "metadata": {},
   "outputs": [
    {
     "data": {
      "text/plain": [
       "(1, 100)"
      ]
     },
     "execution_count": 28,
     "metadata": {},
     "output_type": "execute_result"
    }
   ],
   "source": [
    "X_input=test_data[618:].reshape(1,-1)\n",
    "X_input.shape"
   ]
  },
  {
   "cell_type": "code",
   "execution_count": 29,
   "id": "falling-kennedy",
   "metadata": {},
   "outputs": [],
   "source": [
    "temp_input=list(X_input)\n",
    "temp_input=temp_input[0].tolist()"
   ]
  },
  {
   "cell_type": "code",
   "execution_count": 30,
   "id": "proof-census",
   "metadata": {},
   "outputs": [
    {
     "data": {
      "text/plain": [
       "[0.19878603945371776,\n",
       " 0.20131512392513912,\n",
       " 0.1977744056651492,\n",
       " 0.19828022255943345,\n",
       " 0.20536165907941323,\n",
       " 0.2018209408194233,\n",
       " 0.20333839150227612,\n",
       " 0.20384420839656042,\n",
       " 0.20536165907941323,\n",
       " 0.20890237733940314,\n",
       " 0.20536165907941323,\n",
       " 0.21648963075366717,\n",
       " 0.22154779969650984,\n",
       " 0.2377339403136064,\n",
       " 0.2498735457764289,\n",
       " 0.24380374304501762,\n",
       " 0.23065250379362667,\n",
       " 0.2341932220536166,\n",
       " 0.2357106727364694,\n",
       " 0.24886191198786034,\n",
       " 0.24734446130500753,\n",
       " 0.2367223065250379,\n",
       " 0.22964087000505812,\n",
       " 0.20536165907941323,\n",
       " 0.16236722306525037,\n",
       " 0.15275670207384923,\n",
       " 0.14264036418816384,\n",
       " 0.14314618108244814,\n",
       " 0.13859382903388973,\n",
       " 0.13252402630247845,\n",
       " 0.13454729387961556,\n",
       " 0.146686899342438,\n",
       " 0.1436519979767324,\n",
       " 0.14112291350531103,\n",
       " 0.14061709661102678,\n",
       " 0.13859382903388973,\n",
       " 0.13909964592817398,\n",
       " 0.1350531107738998,\n",
       " 0.1451694486595852,\n",
       " 0.13909964592817398,\n",
       " 0.13707637835103692,\n",
       " 0.1294891249367729,\n",
       " 0.12240768841679306,\n",
       " 0.11583206879109759,\n",
       " 0.10672736469398075,\n",
       " 0.09509357612544256,\n",
       " 0.09610520991401111,\n",
       " 0.09104704097116845,\n",
       " 0.10015174506828523,\n",
       " 0.1062215477996965,\n",
       " 0.10065756196256953,\n",
       " 0.133535660091047,\n",
       " 0.12392513909964592,\n",
       " 0.12240768841679306,\n",
       " 0.12999494183105714,\n",
       " 0.12190187152250886,\n",
       " 0.11836115326251895,\n",
       " 0.12443095599393017,\n",
       " 0.11987860394537175,\n",
       " 0.11987860394537175,\n",
       " 0.11330298431967623,\n",
       " 0.11279716742539198,\n",
       " 0.11127971674253917,\n",
       " 0.1305007587253414,\n",
       " 0.1471927162367223,\n",
       " 0.13808801213960542,\n",
       " 0.12493677288821442,\n",
       " 0.12291350531107736,\n",
       " 0.12645422357106723,\n",
       " 0.13151239251390995,\n",
       " 0.13909964592817398,\n",
       " 0.14162873039959534,\n",
       " 0.13808801213960542,\n",
       " 0.17855336368234698,\n",
       " 0.1997976732422862,\n",
       " 0.1871522508851795,\n",
       " 0.1841173495194739,\n",
       " 0.18816388467374806,\n",
       " 0.20687910976226603,\n",
       " 0.24481537683358617,\n",
       " 0.2281234193222053,\n",
       " 0.21092564491654014,\n",
       " 0.18259989883662114,\n",
       " 0.17298937784522,\n",
       " 0.1977744056651492,\n",
       " 0.19828022255943345,\n",
       " 0.21851289833080417,\n",
       " 0.20435002529084467,\n",
       " 0.20283257460799187,\n",
       " 0.20536165907941323,\n",
       " 0.21092564491654014,\n",
       " 0.2099140111279716,\n",
       " 0.21446636317653006,\n",
       " 0.20586747597369748,\n",
       " 0.20435002529084467,\n",
       " 0.20283257460799187,\n",
       " 0.1962569549822964,\n",
       " 0.19524532119372784,\n",
       " 0.16186140617096606,\n",
       " 0.19473950429944353]"
      ]
     },
     "execution_count": 30,
     "metadata": {},
     "output_type": "execute_result"
    }
   ],
   "source": [
    "temp_input"
   ]
  },
  {
   "cell_type": "code",
   "execution_count": 31,
   "id": "widespread-northern",
   "metadata": {},
   "outputs": [
    {
     "name": "stdout",
     "output_type": "stream",
     "text": [
      "[0.00853074]\n",
      "101\n",
      "1day input [0.20131512 0.19777441 0.19828022 0.20536166 0.20182094 0.20333839\n",
      " 0.20384421 0.20536166 0.20890238 0.20536166 0.21648963 0.2215478\n",
      " 0.23773394 0.24987355 0.24380374 0.2306525  0.23419322 0.23571067\n",
      " 0.24886191 0.24734446 0.23672231 0.22964087 0.20536166 0.16236722\n",
      " 0.1527567  0.14264036 0.14314618 0.13859383 0.13252403 0.13454729\n",
      " 0.1466869  0.143652   0.14112291 0.1406171  0.13859383 0.13909965\n",
      " 0.13505311 0.14516945 0.13909965 0.13707638 0.12948912 0.12240769\n",
      " 0.11583207 0.10672736 0.09509358 0.09610521 0.09104704 0.10015175\n",
      " 0.10622155 0.10065756 0.13353566 0.12392514 0.12240769 0.12999494\n",
      " 0.12190187 0.11836115 0.12443096 0.1198786  0.1198786  0.11330298\n",
      " 0.11279717 0.11127972 0.13050076 0.14719272 0.13808801 0.12493677\n",
      " 0.12291351 0.12645422 0.13151239 0.13909965 0.14162873 0.13808801\n",
      " 0.17855336 0.19979767 0.18715225 0.18411735 0.18816388 0.20687911\n",
      " 0.24481538 0.22812342 0.21092564 0.1825999  0.17298938 0.19777441\n",
      " 0.19828022 0.2185129  0.20435003 0.20283257 0.20536166 0.21092564\n",
      " 0.20991401 0.21446636 0.20586748 0.20435003 0.20283257 0.19625695\n",
      " 0.19524532 0.16186141 0.1947395  0.00853074]\n",
      "1 day out [[0.00850813]]\n",
      "2day input [0.19777441 0.19828022 0.20536166 0.20182094 0.20333839 0.20384421\n",
      " 0.20536166 0.20890238 0.20536166 0.21648963 0.2215478  0.23773394\n",
      " 0.24987355 0.24380374 0.2306525  0.23419322 0.23571067 0.24886191\n",
      " 0.24734446 0.23672231 0.22964087 0.20536166 0.16236722 0.1527567\n",
      " 0.14264036 0.14314618 0.13859383 0.13252403 0.13454729 0.1466869\n",
      " 0.143652   0.14112291 0.1406171  0.13859383 0.13909965 0.13505311\n",
      " 0.14516945 0.13909965 0.13707638 0.12948912 0.12240769 0.11583207\n",
      " 0.10672736 0.09509358 0.09610521 0.09104704 0.10015175 0.10622155\n",
      " 0.10065756 0.13353566 0.12392514 0.12240769 0.12999494 0.12190187\n",
      " 0.11836115 0.12443096 0.1198786  0.1198786  0.11330298 0.11279717\n",
      " 0.11127972 0.13050076 0.14719272 0.13808801 0.12493677 0.12291351\n",
      " 0.12645422 0.13151239 0.13909965 0.14162873 0.13808801 0.17855336\n",
      " 0.19979767 0.18715225 0.18411735 0.18816388 0.20687911 0.24481538\n",
      " 0.22812342 0.21092564 0.1825999  0.17298938 0.19777441 0.19828022\n",
      " 0.2185129  0.20435003 0.20283257 0.20536166 0.21092564 0.20991401\n",
      " 0.21446636 0.20586748 0.20435003 0.20283257 0.19625695 0.19524532\n",
      " 0.16186141 0.1947395  0.00853074 0.00850813]\n",
      "2 day out [[0.00842346]]\n",
      "3day input [0.19828022 0.20536166 0.20182094 0.20333839 0.20384421 0.20536166\n",
      " 0.20890238 0.20536166 0.21648963 0.2215478  0.23773394 0.24987355\n",
      " 0.24380374 0.2306525  0.23419322 0.23571067 0.24886191 0.24734446\n",
      " 0.23672231 0.22964087 0.20536166 0.16236722 0.1527567  0.14264036\n",
      " 0.14314618 0.13859383 0.13252403 0.13454729 0.1466869  0.143652\n",
      " 0.14112291 0.1406171  0.13859383 0.13909965 0.13505311 0.14516945\n",
      " 0.13909965 0.13707638 0.12948912 0.12240769 0.11583207 0.10672736\n",
      " 0.09509358 0.09610521 0.09104704 0.10015175 0.10622155 0.10065756\n",
      " 0.13353566 0.12392514 0.12240769 0.12999494 0.12190187 0.11836115\n",
      " 0.12443096 0.1198786  0.1198786  0.11330298 0.11279717 0.11127972\n",
      " 0.13050076 0.14719272 0.13808801 0.12493677 0.12291351 0.12645422\n",
      " 0.13151239 0.13909965 0.14162873 0.13808801 0.17855336 0.19979767\n",
      " 0.18715225 0.18411735 0.18816388 0.20687911 0.24481538 0.22812342\n",
      " 0.21092564 0.1825999  0.17298938 0.19777441 0.19828022 0.2185129\n",
      " 0.20435003 0.20283257 0.20536166 0.21092564 0.20991401 0.21446636\n",
      " 0.20586748 0.20435003 0.20283257 0.19625695 0.19524532 0.16186141\n",
      " 0.1947395  0.00853074 0.00850813 0.00842346]\n",
      "3 day out [[0.00826719]]\n",
      "4day input [0.20536166 0.20182094 0.20333839 0.20384421 0.20536166 0.20890238\n",
      " 0.20536166 0.21648963 0.2215478  0.23773394 0.24987355 0.24380374\n",
      " 0.2306525  0.23419322 0.23571067 0.24886191 0.24734446 0.23672231\n",
      " 0.22964087 0.20536166 0.16236722 0.1527567  0.14264036 0.14314618\n",
      " 0.13859383 0.13252403 0.13454729 0.1466869  0.143652   0.14112291\n",
      " 0.1406171  0.13859383 0.13909965 0.13505311 0.14516945 0.13909965\n",
      " 0.13707638 0.12948912 0.12240769 0.11583207 0.10672736 0.09509358\n",
      " 0.09610521 0.09104704 0.10015175 0.10622155 0.10065756 0.13353566\n",
      " 0.12392514 0.12240769 0.12999494 0.12190187 0.11836115 0.12443096\n",
      " 0.1198786  0.1198786  0.11330298 0.11279717 0.11127972 0.13050076\n",
      " 0.14719272 0.13808801 0.12493677 0.12291351 0.12645422 0.13151239\n",
      " 0.13909965 0.14162873 0.13808801 0.17855336 0.19979767 0.18715225\n",
      " 0.18411735 0.18816388 0.20687911 0.24481538 0.22812342 0.21092564\n",
      " 0.1825999  0.17298938 0.19777441 0.19828022 0.2185129  0.20435003\n",
      " 0.20283257 0.20536166 0.21092564 0.20991401 0.21446636 0.20586748\n",
      " 0.20435003 0.20283257 0.19625695 0.19524532 0.16186141 0.1947395\n",
      " 0.00853074 0.00850813 0.00842346 0.00826719]\n",
      "4 day out [[0.00803638]]\n",
      "5day input [0.20182094 0.20333839 0.20384421 0.20536166 0.20890238 0.20536166\n",
      " 0.21648963 0.2215478  0.23773394 0.24987355 0.24380374 0.2306525\n",
      " 0.23419322 0.23571067 0.24886191 0.24734446 0.23672231 0.22964087\n",
      " 0.20536166 0.16236722 0.1527567  0.14264036 0.14314618 0.13859383\n",
      " 0.13252403 0.13454729 0.1466869  0.143652   0.14112291 0.1406171\n",
      " 0.13859383 0.13909965 0.13505311 0.14516945 0.13909965 0.13707638\n",
      " 0.12948912 0.12240769 0.11583207 0.10672736 0.09509358 0.09610521\n",
      " 0.09104704 0.10015175 0.10622155 0.10065756 0.13353566 0.12392514\n",
      " 0.12240769 0.12999494 0.12190187 0.11836115 0.12443096 0.1198786\n",
      " 0.1198786  0.11330298 0.11279717 0.11127972 0.13050076 0.14719272\n",
      " 0.13808801 0.12493677 0.12291351 0.12645422 0.13151239 0.13909965\n",
      " 0.14162873 0.13808801 0.17855336 0.19979767 0.18715225 0.18411735\n",
      " 0.18816388 0.20687911 0.24481538 0.22812342 0.21092564 0.1825999\n",
      " 0.17298938 0.19777441 0.19828022 0.2185129  0.20435003 0.20283257\n",
      " 0.20536166 0.21092564 0.20991401 0.21446636 0.20586748 0.20435003\n",
      " 0.20283257 0.19625695 0.19524532 0.16186141 0.1947395  0.00853074\n",
      " 0.00850813 0.00842346 0.00826719 0.00803638]\n",
      "5 day out [[0.00773524]]\n",
      "6day input [0.20333839 0.20384421 0.20536166 0.20890238 0.20536166 0.21648963\n",
      " 0.2215478  0.23773394 0.24987355 0.24380374 0.2306525  0.23419322\n",
      " 0.23571067 0.24886191 0.24734446 0.23672231 0.22964087 0.20536166\n",
      " 0.16236722 0.1527567  0.14264036 0.14314618 0.13859383 0.13252403\n",
      " 0.13454729 0.1466869  0.143652   0.14112291 0.1406171  0.13859383\n",
      " 0.13909965 0.13505311 0.14516945 0.13909965 0.13707638 0.12948912\n",
      " 0.12240769 0.11583207 0.10672736 0.09509358 0.09610521 0.09104704\n",
      " 0.10015175 0.10622155 0.10065756 0.13353566 0.12392514 0.12240769\n",
      " 0.12999494 0.12190187 0.11836115 0.12443096 0.1198786  0.1198786\n",
      " 0.11330298 0.11279717 0.11127972 0.13050076 0.14719272 0.13808801\n",
      " 0.12493677 0.12291351 0.12645422 0.13151239 0.13909965 0.14162873\n",
      " 0.13808801 0.17855336 0.19979767 0.18715225 0.18411735 0.18816388\n",
      " 0.20687911 0.24481538 0.22812342 0.21092564 0.1825999  0.17298938\n",
      " 0.19777441 0.19828022 0.2185129  0.20435003 0.20283257 0.20536166\n",
      " 0.21092564 0.20991401 0.21446636 0.20586748 0.20435003 0.20283257\n",
      " 0.19625695 0.19524532 0.16186141 0.1947395  0.00853074 0.00850813\n",
      " 0.00842346 0.00826719 0.00803638 0.00773524]\n",
      "6 day out [[0.00737346]]\n",
      "7day input [0.20384421 0.20536166 0.20890238 0.20536166 0.21648963 0.2215478\n",
      " 0.23773394 0.24987355 0.24380374 0.2306525  0.23419322 0.23571067\n",
      " 0.24886191 0.24734446 0.23672231 0.22964087 0.20536166 0.16236722\n",
      " 0.1527567  0.14264036 0.14314618 0.13859383 0.13252403 0.13454729\n",
      " 0.1466869  0.143652   0.14112291 0.1406171  0.13859383 0.13909965\n",
      " 0.13505311 0.14516945 0.13909965 0.13707638 0.12948912 0.12240769\n",
      " 0.11583207 0.10672736 0.09509358 0.09610521 0.09104704 0.10015175\n",
      " 0.10622155 0.10065756 0.13353566 0.12392514 0.12240769 0.12999494\n",
      " 0.12190187 0.11836115 0.12443096 0.1198786  0.1198786  0.11330298\n",
      " 0.11279717 0.11127972 0.13050076 0.14719272 0.13808801 0.12493677\n",
      " 0.12291351 0.12645422 0.13151239 0.13909965 0.14162873 0.13808801\n",
      " 0.17855336 0.19979767 0.18715225 0.18411735 0.18816388 0.20687911\n",
      " 0.24481538 0.22812342 0.21092564 0.1825999  0.17298938 0.19777441\n",
      " 0.19828022 0.2185129  0.20435003 0.20283257 0.20536166 0.21092564\n",
      " 0.20991401 0.21446636 0.20586748 0.20435003 0.20283257 0.19625695\n",
      " 0.19524532 0.16186141 0.1947395  0.00853074 0.00850813 0.00842346\n",
      " 0.00826719 0.00803638 0.00773524 0.00737346]\n",
      "7 day out [[0.00696394]]\n",
      "8day input [0.20536166 0.20890238 0.20536166 0.21648963 0.2215478  0.23773394\n",
      " 0.24987355 0.24380374 0.2306525  0.23419322 0.23571067 0.24886191\n",
      " 0.24734446 0.23672231 0.22964087 0.20536166 0.16236722 0.1527567\n",
      " 0.14264036 0.14314618 0.13859383 0.13252403 0.13454729 0.1466869\n",
      " 0.143652   0.14112291 0.1406171  0.13859383 0.13909965 0.13505311\n",
      " 0.14516945 0.13909965 0.13707638 0.12948912 0.12240769 0.11583207\n",
      " 0.10672736 0.09509358 0.09610521 0.09104704 0.10015175 0.10622155\n",
      " 0.10065756 0.13353566 0.12392514 0.12240769 0.12999494 0.12190187\n",
      " 0.11836115 0.12443096 0.1198786  0.1198786  0.11330298 0.11279717\n",
      " 0.11127972 0.13050076 0.14719272 0.13808801 0.12493677 0.12291351\n",
      " 0.12645422 0.13151239 0.13909965 0.14162873 0.13808801 0.17855336\n",
      " 0.19979767 0.18715225 0.18411735 0.18816388 0.20687911 0.24481538\n",
      " 0.22812342 0.21092564 0.1825999  0.17298938 0.19777441 0.19828022\n",
      " 0.2185129  0.20435003 0.20283257 0.20536166 0.21092564 0.20991401\n",
      " 0.21446636 0.20586748 0.20435003 0.20283257 0.19625695 0.19524532\n",
      " 0.16186141 0.1947395  0.00853074 0.00850813 0.00842346 0.00826719\n",
      " 0.00803638 0.00773524 0.00737346 0.00696394]\n",
      "8 day out [[0.00652087]]\n",
      "9day input [0.20890238 0.20536166 0.21648963 0.2215478  0.23773394 0.24987355\n",
      " 0.24380374 0.2306525  0.23419322 0.23571067 0.24886191 0.24734446\n",
      " 0.23672231 0.22964087 0.20536166 0.16236722 0.1527567  0.14264036\n",
      " 0.14314618 0.13859383 0.13252403 0.13454729 0.1466869  0.143652\n",
      " 0.14112291 0.1406171  0.13859383 0.13909965 0.13505311 0.14516945\n",
      " 0.13909965 0.13707638 0.12948912 0.12240769 0.11583207 0.10672736\n",
      " 0.09509358 0.09610521 0.09104704 0.10015175 0.10622155 0.10065756\n",
      " 0.13353566 0.12392514 0.12240769 0.12999494 0.12190187 0.11836115\n",
      " 0.12443096 0.1198786  0.1198786  0.11330298 0.11279717 0.11127972\n",
      " 0.13050076 0.14719272 0.13808801 0.12493677 0.12291351 0.12645422\n",
      " 0.13151239 0.13909965 0.14162873 0.13808801 0.17855336 0.19979767\n",
      " 0.18715225 0.18411735 0.18816388 0.20687911 0.24481538 0.22812342\n",
      " 0.21092564 0.1825999  0.17298938 0.19777441 0.19828022 0.2185129\n",
      " 0.20435003 0.20283257 0.20536166 0.21092564 0.20991401 0.21446636\n",
      " 0.20586748 0.20435003 0.20283257 0.19625695 0.19524532 0.16186141\n",
      " 0.1947395  0.00853074 0.00850813 0.00842346 0.00826719 0.00803638\n",
      " 0.00773524 0.00737346 0.00696394 0.00652087]\n"
     ]
    },
    {
     "name": "stdout",
     "output_type": "stream",
     "text": [
      "9 day out [[0.00605816]]\n",
      "10day input [0.20536166 0.21648963 0.2215478  0.23773394 0.24987355 0.24380374\n",
      " 0.2306525  0.23419322 0.23571067 0.24886191 0.24734446 0.23672231\n",
      " 0.22964087 0.20536166 0.16236722 0.1527567  0.14264036 0.14314618\n",
      " 0.13859383 0.13252403 0.13454729 0.1466869  0.143652   0.14112291\n",
      " 0.1406171  0.13859383 0.13909965 0.13505311 0.14516945 0.13909965\n",
      " 0.13707638 0.12948912 0.12240769 0.11583207 0.10672736 0.09509358\n",
      " 0.09610521 0.09104704 0.10015175 0.10622155 0.10065756 0.13353566\n",
      " 0.12392514 0.12240769 0.12999494 0.12190187 0.11836115 0.12443096\n",
      " 0.1198786  0.1198786  0.11330298 0.11279717 0.11127972 0.13050076\n",
      " 0.14719272 0.13808801 0.12493677 0.12291351 0.12645422 0.13151239\n",
      " 0.13909965 0.14162873 0.13808801 0.17855336 0.19979767 0.18715225\n",
      " 0.18411735 0.18816388 0.20687911 0.24481538 0.22812342 0.21092564\n",
      " 0.1825999  0.17298938 0.19777441 0.19828022 0.2185129  0.20435003\n",
      " 0.20283257 0.20536166 0.21092564 0.20991401 0.21446636 0.20586748\n",
      " 0.20435003 0.20283257 0.19625695 0.19524532 0.16186141 0.1947395\n",
      " 0.00853074 0.00850813 0.00842346 0.00826719 0.00803638 0.00773524\n",
      " 0.00737346 0.00696394 0.00652087 0.00605816]\n",
      "10 day out [[0.00558856]]\n",
      "11day input [0.21648963 0.2215478  0.23773394 0.24987355 0.24380374 0.2306525\n",
      " 0.23419322 0.23571067 0.24886191 0.24734446 0.23672231 0.22964087\n",
      " 0.20536166 0.16236722 0.1527567  0.14264036 0.14314618 0.13859383\n",
      " 0.13252403 0.13454729 0.1466869  0.143652   0.14112291 0.1406171\n",
      " 0.13859383 0.13909965 0.13505311 0.14516945 0.13909965 0.13707638\n",
      " 0.12948912 0.12240769 0.11583207 0.10672736 0.09509358 0.09610521\n",
      " 0.09104704 0.10015175 0.10622155 0.10065756 0.13353566 0.12392514\n",
      " 0.12240769 0.12999494 0.12190187 0.11836115 0.12443096 0.1198786\n",
      " 0.1198786  0.11330298 0.11279717 0.11127972 0.13050076 0.14719272\n",
      " 0.13808801 0.12493677 0.12291351 0.12645422 0.13151239 0.13909965\n",
      " 0.14162873 0.13808801 0.17855336 0.19979767 0.18715225 0.18411735\n",
      " 0.18816388 0.20687911 0.24481538 0.22812342 0.21092564 0.1825999\n",
      " 0.17298938 0.19777441 0.19828022 0.2185129  0.20435003 0.20283257\n",
      " 0.20536166 0.21092564 0.20991401 0.21446636 0.20586748 0.20435003\n",
      " 0.20283257 0.19625695 0.19524532 0.16186141 0.1947395  0.00853074\n",
      " 0.00850813 0.00842346 0.00826719 0.00803638 0.00773524 0.00737346\n",
      " 0.00696394 0.00652087 0.00605816 0.00558856]\n",
      "11 day out [[0.00512304]]\n",
      "12day input [0.2215478  0.23773394 0.24987355 0.24380374 0.2306525  0.23419322\n",
      " 0.23571067 0.24886191 0.24734446 0.23672231 0.22964087 0.20536166\n",
      " 0.16236722 0.1527567  0.14264036 0.14314618 0.13859383 0.13252403\n",
      " 0.13454729 0.1466869  0.143652   0.14112291 0.1406171  0.13859383\n",
      " 0.13909965 0.13505311 0.14516945 0.13909965 0.13707638 0.12948912\n",
      " 0.12240769 0.11583207 0.10672736 0.09509358 0.09610521 0.09104704\n",
      " 0.10015175 0.10622155 0.10065756 0.13353566 0.12392514 0.12240769\n",
      " 0.12999494 0.12190187 0.11836115 0.12443096 0.1198786  0.1198786\n",
      " 0.11330298 0.11279717 0.11127972 0.13050076 0.14719272 0.13808801\n",
      " 0.12493677 0.12291351 0.12645422 0.13151239 0.13909965 0.14162873\n",
      " 0.13808801 0.17855336 0.19979767 0.18715225 0.18411735 0.18816388\n",
      " 0.20687911 0.24481538 0.22812342 0.21092564 0.1825999  0.17298938\n",
      " 0.19777441 0.19828022 0.2185129  0.20435003 0.20283257 0.20536166\n",
      " 0.21092564 0.20991401 0.21446636 0.20586748 0.20435003 0.20283257\n",
      " 0.19625695 0.19524532 0.16186141 0.1947395  0.00853074 0.00850813\n",
      " 0.00842346 0.00826719 0.00803638 0.00773524 0.00737346 0.00696394\n",
      " 0.00652087 0.00605816 0.00558856 0.00512304]\n",
      "12 day out [[0.00467055]]\n",
      "13day input [0.23773394 0.24987355 0.24380374 0.2306525  0.23419322 0.23571067\n",
      " 0.24886191 0.24734446 0.23672231 0.22964087 0.20536166 0.16236722\n",
      " 0.1527567  0.14264036 0.14314618 0.13859383 0.13252403 0.13454729\n",
      " 0.1466869  0.143652   0.14112291 0.1406171  0.13859383 0.13909965\n",
      " 0.13505311 0.14516945 0.13909965 0.13707638 0.12948912 0.12240769\n",
      " 0.11583207 0.10672736 0.09509358 0.09610521 0.09104704 0.10015175\n",
      " 0.10622155 0.10065756 0.13353566 0.12392514 0.12240769 0.12999494\n",
      " 0.12190187 0.11836115 0.12443096 0.1198786  0.1198786  0.11330298\n",
      " 0.11279717 0.11127972 0.13050076 0.14719272 0.13808801 0.12493677\n",
      " 0.12291351 0.12645422 0.13151239 0.13909965 0.14162873 0.13808801\n",
      " 0.17855336 0.19979767 0.18715225 0.18411735 0.18816388 0.20687911\n",
      " 0.24481538 0.22812342 0.21092564 0.1825999  0.17298938 0.19777441\n",
      " 0.19828022 0.2185129  0.20435003 0.20283257 0.20536166 0.21092564\n",
      " 0.20991401 0.21446636 0.20586748 0.20435003 0.20283257 0.19625695\n",
      " 0.19524532 0.16186141 0.1947395  0.00853074 0.00850813 0.00842346\n",
      " 0.00826719 0.00803638 0.00773524 0.00737346 0.00696394 0.00652087\n",
      " 0.00605816 0.00558856 0.00512304 0.00467055]\n",
      "13 day out [[0.004238]]\n",
      "14day input [0.24987355 0.24380374 0.2306525  0.23419322 0.23571067 0.24886191\n",
      " 0.24734446 0.23672231 0.22964087 0.20536166 0.16236722 0.1527567\n",
      " 0.14264036 0.14314618 0.13859383 0.13252403 0.13454729 0.1466869\n",
      " 0.143652   0.14112291 0.1406171  0.13859383 0.13909965 0.13505311\n",
      " 0.14516945 0.13909965 0.13707638 0.12948912 0.12240769 0.11583207\n",
      " 0.10672736 0.09509358 0.09610521 0.09104704 0.10015175 0.10622155\n",
      " 0.10065756 0.13353566 0.12392514 0.12240769 0.12999494 0.12190187\n",
      " 0.11836115 0.12443096 0.1198786  0.1198786  0.11330298 0.11279717\n",
      " 0.11127972 0.13050076 0.14719272 0.13808801 0.12493677 0.12291351\n",
      " 0.12645422 0.13151239 0.13909965 0.14162873 0.13808801 0.17855336\n",
      " 0.19979767 0.18715225 0.18411735 0.18816388 0.20687911 0.24481538\n",
      " 0.22812342 0.21092564 0.1825999  0.17298938 0.19777441 0.19828022\n",
      " 0.2185129  0.20435003 0.20283257 0.20536166 0.21092564 0.20991401\n",
      " 0.21446636 0.20586748 0.20435003 0.20283257 0.19625695 0.19524532\n",
      " 0.16186141 0.1947395  0.00853074 0.00850813 0.00842346 0.00826719\n",
      " 0.00803638 0.00773524 0.00737346 0.00696394 0.00652087 0.00605816\n",
      " 0.00558856 0.00512304 0.00467055 0.004238  ]\n",
      "14 day out [[0.00383036]]\n",
      "15day input [0.24380374 0.2306525  0.23419322 0.23571067 0.24886191 0.24734446\n",
      " 0.23672231 0.22964087 0.20536166 0.16236722 0.1527567  0.14264036\n",
      " 0.14314618 0.13859383 0.13252403 0.13454729 0.1466869  0.143652\n",
      " 0.14112291 0.1406171  0.13859383 0.13909965 0.13505311 0.14516945\n",
      " 0.13909965 0.13707638 0.12948912 0.12240769 0.11583207 0.10672736\n",
      " 0.09509358 0.09610521 0.09104704 0.10015175 0.10622155 0.10065756\n",
      " 0.13353566 0.12392514 0.12240769 0.12999494 0.12190187 0.11836115\n",
      " 0.12443096 0.1198786  0.1198786  0.11330298 0.11279717 0.11127972\n",
      " 0.13050076 0.14719272 0.13808801 0.12493677 0.12291351 0.12645422\n",
      " 0.13151239 0.13909965 0.14162873 0.13808801 0.17855336 0.19979767\n",
      " 0.18715225 0.18411735 0.18816388 0.20687911 0.24481538 0.22812342\n",
      " 0.21092564 0.1825999  0.17298938 0.19777441 0.19828022 0.2185129\n",
      " 0.20435003 0.20283257 0.20536166 0.21092564 0.20991401 0.21446636\n",
      " 0.20586748 0.20435003 0.20283257 0.19625695 0.19524532 0.16186141\n",
      " 0.1947395  0.00853074 0.00850813 0.00842346 0.00826719 0.00803638\n",
      " 0.00773524 0.00737346 0.00696394 0.00652087 0.00605816 0.00558856\n",
      " 0.00512304 0.00467055 0.004238   0.00383036]\n",
      "15 day out [[0.00345085]]\n",
      "16day input [0.2306525  0.23419322 0.23571067 0.24886191 0.24734446 0.23672231\n",
      " 0.22964087 0.20536166 0.16236722 0.1527567  0.14264036 0.14314618\n",
      " 0.13859383 0.13252403 0.13454729 0.1466869  0.143652   0.14112291\n",
      " 0.1406171  0.13859383 0.13909965 0.13505311 0.14516945 0.13909965\n",
      " 0.13707638 0.12948912 0.12240769 0.11583207 0.10672736 0.09509358\n",
      " 0.09610521 0.09104704 0.10015175 0.10622155 0.10065756 0.13353566\n",
      " 0.12392514 0.12240769 0.12999494 0.12190187 0.11836115 0.12443096\n",
      " 0.1198786  0.1198786  0.11330298 0.11279717 0.11127972 0.13050076\n",
      " 0.14719272 0.13808801 0.12493677 0.12291351 0.12645422 0.13151239\n",
      " 0.13909965 0.14162873 0.13808801 0.17855336 0.19979767 0.18715225\n",
      " 0.18411735 0.18816388 0.20687911 0.24481538 0.22812342 0.21092564\n",
      " 0.1825999  0.17298938 0.19777441 0.19828022 0.2185129  0.20435003\n",
      " 0.20283257 0.20536166 0.21092564 0.20991401 0.21446636 0.20586748\n",
      " 0.20435003 0.20283257 0.19625695 0.19524532 0.16186141 0.1947395\n",
      " 0.00853074 0.00850813 0.00842346 0.00826719 0.00803638 0.00773524\n",
      " 0.00737346 0.00696394 0.00652087 0.00605816 0.00558856 0.00512304\n",
      " 0.00467055 0.004238   0.00383036 0.00345085]\n",
      "16 day out [[0.00310118]]\n",
      "17day input [0.23419322 0.23571067 0.24886191 0.24734446 0.23672231 0.22964087\n",
      " 0.20536166 0.16236722 0.1527567  0.14264036 0.14314618 0.13859383\n",
      " 0.13252403 0.13454729 0.1466869  0.143652   0.14112291 0.1406171\n",
      " 0.13859383 0.13909965 0.13505311 0.14516945 0.13909965 0.13707638\n",
      " 0.12948912 0.12240769 0.11583207 0.10672736 0.09509358 0.09610521\n",
      " 0.09104704 0.10015175 0.10622155 0.10065756 0.13353566 0.12392514\n",
      " 0.12240769 0.12999494 0.12190187 0.11836115 0.12443096 0.1198786\n",
      " 0.1198786  0.11330298 0.11279717 0.11127972 0.13050076 0.14719272\n",
      " 0.13808801 0.12493677 0.12291351 0.12645422 0.13151239 0.13909965\n",
      " 0.14162873 0.13808801 0.17855336 0.19979767 0.18715225 0.18411735\n",
      " 0.18816388 0.20687911 0.24481538 0.22812342 0.21092564 0.1825999\n",
      " 0.17298938 0.19777441 0.19828022 0.2185129  0.20435003 0.20283257\n",
      " 0.20536166 0.21092564 0.20991401 0.21446636 0.20586748 0.20435003\n",
      " 0.20283257 0.19625695 0.19524532 0.16186141 0.1947395  0.00853074\n",
      " 0.00850813 0.00842346 0.00826719 0.00803638 0.00773524 0.00737346\n",
      " 0.00696394 0.00652087 0.00605816 0.00558856 0.00512304 0.00467055\n",
      " 0.004238   0.00383036 0.00345085 0.00310118]\n"
     ]
    },
    {
     "name": "stdout",
     "output_type": "stream",
     "text": [
      "17 day out [[0.00278182]]\n",
      "18day input [0.23571067 0.24886191 0.24734446 0.23672231 0.22964087 0.20536166\n",
      " 0.16236722 0.1527567  0.14264036 0.14314618 0.13859383 0.13252403\n",
      " 0.13454729 0.1466869  0.143652   0.14112291 0.1406171  0.13859383\n",
      " 0.13909965 0.13505311 0.14516945 0.13909965 0.13707638 0.12948912\n",
      " 0.12240769 0.11583207 0.10672736 0.09509358 0.09610521 0.09104704\n",
      " 0.10015175 0.10622155 0.10065756 0.13353566 0.12392514 0.12240769\n",
      " 0.12999494 0.12190187 0.11836115 0.12443096 0.1198786  0.1198786\n",
      " 0.11330298 0.11279717 0.11127972 0.13050076 0.14719272 0.13808801\n",
      " 0.12493677 0.12291351 0.12645422 0.13151239 0.13909965 0.14162873\n",
      " 0.13808801 0.17855336 0.19979767 0.18715225 0.18411735 0.18816388\n",
      " 0.20687911 0.24481538 0.22812342 0.21092564 0.1825999  0.17298938\n",
      " 0.19777441 0.19828022 0.2185129  0.20435003 0.20283257 0.20536166\n",
      " 0.21092564 0.20991401 0.21446636 0.20586748 0.20435003 0.20283257\n",
      " 0.19625695 0.19524532 0.16186141 0.1947395  0.00853074 0.00850813\n",
      " 0.00842346 0.00826719 0.00803638 0.00773524 0.00737346 0.00696394\n",
      " 0.00652087 0.00605816 0.00558856 0.00512304 0.00467055 0.004238\n",
      " 0.00383036 0.00345085 0.00310118 0.00278182]\n",
      "18 day out [[0.00249229]]\n",
      "19day input [0.24886191 0.24734446 0.23672231 0.22964087 0.20536166 0.16236722\n",
      " 0.1527567  0.14264036 0.14314618 0.13859383 0.13252403 0.13454729\n",
      " 0.1466869  0.143652   0.14112291 0.1406171  0.13859383 0.13909965\n",
      " 0.13505311 0.14516945 0.13909965 0.13707638 0.12948912 0.12240769\n",
      " 0.11583207 0.10672736 0.09509358 0.09610521 0.09104704 0.10015175\n",
      " 0.10622155 0.10065756 0.13353566 0.12392514 0.12240769 0.12999494\n",
      " 0.12190187 0.11836115 0.12443096 0.1198786  0.1198786  0.11330298\n",
      " 0.11279717 0.11127972 0.13050076 0.14719272 0.13808801 0.12493677\n",
      " 0.12291351 0.12645422 0.13151239 0.13909965 0.14162873 0.13808801\n",
      " 0.17855336 0.19979767 0.18715225 0.18411735 0.18816388 0.20687911\n",
      " 0.24481538 0.22812342 0.21092564 0.1825999  0.17298938 0.19777441\n",
      " 0.19828022 0.2185129  0.20435003 0.20283257 0.20536166 0.21092564\n",
      " 0.20991401 0.21446636 0.20586748 0.20435003 0.20283257 0.19625695\n",
      " 0.19524532 0.16186141 0.1947395  0.00853074 0.00850813 0.00842346\n",
      " 0.00826719 0.00803638 0.00773524 0.00737346 0.00696394 0.00652087\n",
      " 0.00605816 0.00558856 0.00512304 0.00467055 0.004238   0.00383036\n",
      " 0.00345085 0.00310118 0.00278182 0.00249229]\n",
      "19 day out [[0.00223134]]\n",
      "20day input [0.24734446 0.23672231 0.22964087 0.20536166 0.16236722 0.1527567\n",
      " 0.14264036 0.14314618 0.13859383 0.13252403 0.13454729 0.1466869\n",
      " 0.143652   0.14112291 0.1406171  0.13859383 0.13909965 0.13505311\n",
      " 0.14516945 0.13909965 0.13707638 0.12948912 0.12240769 0.11583207\n",
      " 0.10672736 0.09509358 0.09610521 0.09104704 0.10015175 0.10622155\n",
      " 0.10065756 0.13353566 0.12392514 0.12240769 0.12999494 0.12190187\n",
      " 0.11836115 0.12443096 0.1198786  0.1198786  0.11330298 0.11279717\n",
      " 0.11127972 0.13050076 0.14719272 0.13808801 0.12493677 0.12291351\n",
      " 0.12645422 0.13151239 0.13909965 0.14162873 0.13808801 0.17855336\n",
      " 0.19979767 0.18715225 0.18411735 0.18816388 0.20687911 0.24481538\n",
      " 0.22812342 0.21092564 0.1825999  0.17298938 0.19777441 0.19828022\n",
      " 0.2185129  0.20435003 0.20283257 0.20536166 0.21092564 0.20991401\n",
      " 0.21446636 0.20586748 0.20435003 0.20283257 0.19625695 0.19524532\n",
      " 0.16186141 0.1947395  0.00853074 0.00850813 0.00842346 0.00826719\n",
      " 0.00803638 0.00773524 0.00737346 0.00696394 0.00652087 0.00605816\n",
      " 0.00558856 0.00512304 0.00467055 0.004238   0.00383036 0.00345085\n",
      " 0.00310118 0.00278182 0.00249229 0.00223134]\n",
      "20 day out [[0.00199725]]\n",
      "21day input [0.23672231 0.22964087 0.20536166 0.16236722 0.1527567  0.14264036\n",
      " 0.14314618 0.13859383 0.13252403 0.13454729 0.1466869  0.143652\n",
      " 0.14112291 0.1406171  0.13859383 0.13909965 0.13505311 0.14516945\n",
      " 0.13909965 0.13707638 0.12948912 0.12240769 0.11583207 0.10672736\n",
      " 0.09509358 0.09610521 0.09104704 0.10015175 0.10622155 0.10065756\n",
      " 0.13353566 0.12392514 0.12240769 0.12999494 0.12190187 0.11836115\n",
      " 0.12443096 0.1198786  0.1198786  0.11330298 0.11279717 0.11127972\n",
      " 0.13050076 0.14719272 0.13808801 0.12493677 0.12291351 0.12645422\n",
      " 0.13151239 0.13909965 0.14162873 0.13808801 0.17855336 0.19979767\n",
      " 0.18715225 0.18411735 0.18816388 0.20687911 0.24481538 0.22812342\n",
      " 0.21092564 0.1825999  0.17298938 0.19777441 0.19828022 0.2185129\n",
      " 0.20435003 0.20283257 0.20536166 0.21092564 0.20991401 0.21446636\n",
      " 0.20586748 0.20435003 0.20283257 0.19625695 0.19524532 0.16186141\n",
      " 0.1947395  0.00853074 0.00850813 0.00842346 0.00826719 0.00803638\n",
      " 0.00773524 0.00737346 0.00696394 0.00652087 0.00605816 0.00558856\n",
      " 0.00512304 0.00467055 0.004238   0.00383036 0.00345085 0.00310118\n",
      " 0.00278182 0.00249229 0.00223134 0.00199725]\n",
      "21 day out [[0.00178796]]\n",
      "22day input [0.22964087 0.20536166 0.16236722 0.1527567  0.14264036 0.14314618\n",
      " 0.13859383 0.13252403 0.13454729 0.1466869  0.143652   0.14112291\n",
      " 0.1406171  0.13859383 0.13909965 0.13505311 0.14516945 0.13909965\n",
      " 0.13707638 0.12948912 0.12240769 0.11583207 0.10672736 0.09509358\n",
      " 0.09610521 0.09104704 0.10015175 0.10622155 0.10065756 0.13353566\n",
      " 0.12392514 0.12240769 0.12999494 0.12190187 0.11836115 0.12443096\n",
      " 0.1198786  0.1198786  0.11330298 0.11279717 0.11127972 0.13050076\n",
      " 0.14719272 0.13808801 0.12493677 0.12291351 0.12645422 0.13151239\n",
      " 0.13909965 0.14162873 0.13808801 0.17855336 0.19979767 0.18715225\n",
      " 0.18411735 0.18816388 0.20687911 0.24481538 0.22812342 0.21092564\n",
      " 0.1825999  0.17298938 0.19777441 0.19828022 0.2185129  0.20435003\n",
      " 0.20283257 0.20536166 0.21092564 0.20991401 0.21446636 0.20586748\n",
      " 0.20435003 0.20283257 0.19625695 0.19524532 0.16186141 0.1947395\n",
      " 0.00853074 0.00850813 0.00842346 0.00826719 0.00803638 0.00773524\n",
      " 0.00737346 0.00696394 0.00652087 0.00605816 0.00558856 0.00512304\n",
      " 0.00467055 0.004238   0.00383036 0.00345085 0.00310118 0.00278182\n",
      " 0.00249229 0.00223134 0.00199725 0.00178796]\n",
      "22 day out [[0.00160127]]\n",
      "23day input [0.20536166 0.16236722 0.1527567  0.14264036 0.14314618 0.13859383\n",
      " 0.13252403 0.13454729 0.1466869  0.143652   0.14112291 0.1406171\n",
      " 0.13859383 0.13909965 0.13505311 0.14516945 0.13909965 0.13707638\n",
      " 0.12948912 0.12240769 0.11583207 0.10672736 0.09509358 0.09610521\n",
      " 0.09104704 0.10015175 0.10622155 0.10065756 0.13353566 0.12392514\n",
      " 0.12240769 0.12999494 0.12190187 0.11836115 0.12443096 0.1198786\n",
      " 0.1198786  0.11330298 0.11279717 0.11127972 0.13050076 0.14719272\n",
      " 0.13808801 0.12493677 0.12291351 0.12645422 0.13151239 0.13909965\n",
      " 0.14162873 0.13808801 0.17855336 0.19979767 0.18715225 0.18411735\n",
      " 0.18816388 0.20687911 0.24481538 0.22812342 0.21092564 0.1825999\n",
      " 0.17298938 0.19777441 0.19828022 0.2185129  0.20435003 0.20283257\n",
      " 0.20536166 0.21092564 0.20991401 0.21446636 0.20586748 0.20435003\n",
      " 0.20283257 0.19625695 0.19524532 0.16186141 0.1947395  0.00853074\n",
      " 0.00850813 0.00842346 0.00826719 0.00803638 0.00773524 0.00737346\n",
      " 0.00696394 0.00652087 0.00605816 0.00558856 0.00512304 0.00467055\n",
      " 0.004238   0.00383036 0.00345085 0.00310118 0.00278182 0.00249229\n",
      " 0.00223134 0.00199725 0.00178796 0.00160127]\n",
      "23 day out [[0.00143491]]\n",
      "24day input [0.16236722 0.1527567  0.14264036 0.14314618 0.13859383 0.13252403\n",
      " 0.13454729 0.1466869  0.143652   0.14112291 0.1406171  0.13859383\n",
      " 0.13909965 0.13505311 0.14516945 0.13909965 0.13707638 0.12948912\n",
      " 0.12240769 0.11583207 0.10672736 0.09509358 0.09610521 0.09104704\n",
      " 0.10015175 0.10622155 0.10065756 0.13353566 0.12392514 0.12240769\n",
      " 0.12999494 0.12190187 0.11836115 0.12443096 0.1198786  0.1198786\n",
      " 0.11330298 0.11279717 0.11127972 0.13050076 0.14719272 0.13808801\n",
      " 0.12493677 0.12291351 0.12645422 0.13151239 0.13909965 0.14162873\n",
      " 0.13808801 0.17855336 0.19979767 0.18715225 0.18411735 0.18816388\n",
      " 0.20687911 0.24481538 0.22812342 0.21092564 0.1825999  0.17298938\n",
      " 0.19777441 0.19828022 0.2185129  0.20435003 0.20283257 0.20536166\n",
      " 0.21092564 0.20991401 0.21446636 0.20586748 0.20435003 0.20283257\n",
      " 0.19625695 0.19524532 0.16186141 0.1947395  0.00853074 0.00850813\n",
      " 0.00842346 0.00826719 0.00803638 0.00773524 0.00737346 0.00696394\n",
      " 0.00652087 0.00605816 0.00558856 0.00512304 0.00467055 0.004238\n",
      " 0.00383036 0.00345085 0.00310118 0.00278182 0.00249229 0.00223134\n",
      " 0.00199725 0.00178796 0.00160127 0.00143491]\n",
      "24 day out [[0.00128671]]\n",
      "25day input [0.1527567  0.14264036 0.14314618 0.13859383 0.13252403 0.13454729\n",
      " 0.1466869  0.143652   0.14112291 0.1406171  0.13859383 0.13909965\n",
      " 0.13505311 0.14516945 0.13909965 0.13707638 0.12948912 0.12240769\n",
      " 0.11583207 0.10672736 0.09509358 0.09610521 0.09104704 0.10015175\n",
      " 0.10622155 0.10065756 0.13353566 0.12392514 0.12240769 0.12999494\n",
      " 0.12190187 0.11836115 0.12443096 0.1198786  0.1198786  0.11330298\n",
      " 0.11279717 0.11127972 0.13050076 0.14719272 0.13808801 0.12493677\n",
      " 0.12291351 0.12645422 0.13151239 0.13909965 0.14162873 0.13808801\n",
      " 0.17855336 0.19979767 0.18715225 0.18411735 0.18816388 0.20687911\n",
      " 0.24481538 0.22812342 0.21092564 0.1825999  0.17298938 0.19777441\n",
      " 0.19828022 0.2185129  0.20435003 0.20283257 0.20536166 0.21092564\n",
      " 0.20991401 0.21446636 0.20586748 0.20435003 0.20283257 0.19625695\n",
      " 0.19524532 0.16186141 0.1947395  0.00853074 0.00850813 0.00842346\n",
      " 0.00826719 0.00803638 0.00773524 0.00737346 0.00696394 0.00652087\n",
      " 0.00605816 0.00558856 0.00512304 0.00467055 0.004238   0.00383036\n",
      " 0.00345085 0.00310118 0.00278182 0.00249229 0.00223134 0.00199725\n",
      " 0.00178796 0.00160127 0.00143491 0.00128671]\n"
     ]
    },
    {
     "name": "stdout",
     "output_type": "stream",
     "text": [
      "25 day out [[0.0011546]]\n",
      "26day input [0.14264036 0.14314618 0.13859383 0.13252403 0.13454729 0.1466869\n",
      " 0.143652   0.14112291 0.1406171  0.13859383 0.13909965 0.13505311\n",
      " 0.14516945 0.13909965 0.13707638 0.12948912 0.12240769 0.11583207\n",
      " 0.10672736 0.09509358 0.09610521 0.09104704 0.10015175 0.10622155\n",
      " 0.10065756 0.13353566 0.12392514 0.12240769 0.12999494 0.12190187\n",
      " 0.11836115 0.12443096 0.1198786  0.1198786  0.11330298 0.11279717\n",
      " 0.11127972 0.13050076 0.14719272 0.13808801 0.12493677 0.12291351\n",
      " 0.12645422 0.13151239 0.13909965 0.14162873 0.13808801 0.17855336\n",
      " 0.19979767 0.18715225 0.18411735 0.18816388 0.20687911 0.24481538\n",
      " 0.22812342 0.21092564 0.1825999  0.17298938 0.19777441 0.19828022\n",
      " 0.2185129  0.20435003 0.20283257 0.20536166 0.21092564 0.20991401\n",
      " 0.21446636 0.20586748 0.20435003 0.20283257 0.19625695 0.19524532\n",
      " 0.16186141 0.1947395  0.00853074 0.00850813 0.00842346 0.00826719\n",
      " 0.00803638 0.00773524 0.00737346 0.00696394 0.00652087 0.00605816\n",
      " 0.00558856 0.00512304 0.00467055 0.004238   0.00383036 0.00345085\n",
      " 0.00310118 0.00278182 0.00249229 0.00223134 0.00199725 0.00178796\n",
      " 0.00160127 0.00143491 0.00128671 0.0011546 ]\n",
      "26 day out [[0.00103668]]\n",
      "27day input [0.14314618 0.13859383 0.13252403 0.13454729 0.1466869  0.143652\n",
      " 0.14112291 0.1406171  0.13859383 0.13909965 0.13505311 0.14516945\n",
      " 0.13909965 0.13707638 0.12948912 0.12240769 0.11583207 0.10672736\n",
      " 0.09509358 0.09610521 0.09104704 0.10015175 0.10622155 0.10065756\n",
      " 0.13353566 0.12392514 0.12240769 0.12999494 0.12190187 0.11836115\n",
      " 0.12443096 0.1198786  0.1198786  0.11330298 0.11279717 0.11127972\n",
      " 0.13050076 0.14719272 0.13808801 0.12493677 0.12291351 0.12645422\n",
      " 0.13151239 0.13909965 0.14162873 0.13808801 0.17855336 0.19979767\n",
      " 0.18715225 0.18411735 0.18816388 0.20687911 0.24481538 0.22812342\n",
      " 0.21092564 0.1825999  0.17298938 0.19777441 0.19828022 0.2185129\n",
      " 0.20435003 0.20283257 0.20536166 0.21092564 0.20991401 0.21446636\n",
      " 0.20586748 0.20435003 0.20283257 0.19625695 0.19524532 0.16186141\n",
      " 0.1947395  0.00853074 0.00850813 0.00842346 0.00826719 0.00803638\n",
      " 0.00773524 0.00737346 0.00696394 0.00652087 0.00605816 0.00558856\n",
      " 0.00512304 0.00467055 0.004238   0.00383036 0.00345085 0.00310118\n",
      " 0.00278182 0.00249229 0.00223134 0.00199725 0.00178796 0.00160127\n",
      " 0.00143491 0.00128671 0.0011546  0.00103668]\n",
      "27 day out [[0.00093124]]\n",
      "28day input [0.13859383 0.13252403 0.13454729 0.1466869  0.143652   0.14112291\n",
      " 0.1406171  0.13859383 0.13909965 0.13505311 0.14516945 0.13909965\n",
      " 0.13707638 0.12948912 0.12240769 0.11583207 0.10672736 0.09509358\n",
      " 0.09610521 0.09104704 0.10015175 0.10622155 0.10065756 0.13353566\n",
      " 0.12392514 0.12240769 0.12999494 0.12190187 0.11836115 0.12443096\n",
      " 0.1198786  0.1198786  0.11330298 0.11279717 0.11127972 0.13050076\n",
      " 0.14719272 0.13808801 0.12493677 0.12291351 0.12645422 0.13151239\n",
      " 0.13909965 0.14162873 0.13808801 0.17855336 0.19979767 0.18715225\n",
      " 0.18411735 0.18816388 0.20687911 0.24481538 0.22812342 0.21092564\n",
      " 0.1825999  0.17298938 0.19777441 0.19828022 0.2185129  0.20435003\n",
      " 0.20283257 0.20536166 0.21092564 0.20991401 0.21446636 0.20586748\n",
      " 0.20435003 0.20283257 0.19625695 0.19524532 0.16186141 0.1947395\n",
      " 0.00853074 0.00850813 0.00842346 0.00826719 0.00803638 0.00773524\n",
      " 0.00737346 0.00696394 0.00652087 0.00605816 0.00558856 0.00512304\n",
      " 0.00467055 0.004238   0.00383036 0.00345085 0.00310118 0.00278182\n",
      " 0.00249229 0.00223134 0.00199725 0.00178796 0.00160127 0.00143491\n",
      " 0.00128671 0.0011546  0.00103668 0.00093124]\n",
      "28 day out [[0.00083676]]\n",
      "29day input [0.13252403 0.13454729 0.1466869  0.143652   0.14112291 0.1406171\n",
      " 0.13859383 0.13909965 0.13505311 0.14516945 0.13909965 0.13707638\n",
      " 0.12948912 0.12240769 0.11583207 0.10672736 0.09509358 0.09610521\n",
      " 0.09104704 0.10015175 0.10622155 0.10065756 0.13353566 0.12392514\n",
      " 0.12240769 0.12999494 0.12190187 0.11836115 0.12443096 0.1198786\n",
      " 0.1198786  0.11330298 0.11279717 0.11127972 0.13050076 0.14719272\n",
      " 0.13808801 0.12493677 0.12291351 0.12645422 0.13151239 0.13909965\n",
      " 0.14162873 0.13808801 0.17855336 0.19979767 0.18715225 0.18411735\n",
      " 0.18816388 0.20687911 0.24481538 0.22812342 0.21092564 0.1825999\n",
      " 0.17298938 0.19777441 0.19828022 0.2185129  0.20435003 0.20283257\n",
      " 0.20536166 0.21092564 0.20991401 0.21446636 0.20586748 0.20435003\n",
      " 0.20283257 0.19625695 0.19524532 0.16186141 0.1947395  0.00853074\n",
      " 0.00850813 0.00842346 0.00826719 0.00803638 0.00773524 0.00737346\n",
      " 0.00696394 0.00652087 0.00605816 0.00558856 0.00512304 0.00467055\n",
      " 0.004238   0.00383036 0.00345085 0.00310118 0.00278182 0.00249229\n",
      " 0.00223134 0.00199725 0.00178796 0.00160127 0.00143491 0.00128671\n",
      " 0.0011546  0.00103668 0.00093124 0.00083676]\n",
      "29 day out [[0.00075191]]\n",
      "[[0.008530744351446629], [0.008508134633302689], [0.0084234569221735], [0.008267192170023918], [0.008036384359002113], [0.007735242135822773], [0.007373458705842495], [0.006963944062590599], [0.0065208664163947105], [0.006058157421648502], [0.0055885594338178635], [0.005123038310557604], [0.004670551512390375], [0.004238002467900515], [0.003830362344160676], [0.003450850024819374], [0.0031011775135993958], [0.002781820483505726], [0.002492286264896393], [0.002231340855360031], [0.0019972503650933504], [0.0017879630904644728], [0.0016012651612982154], [0.0014349104603752494], [0.0012867111945524812], [0.001154600759036839], [0.0010366810020059347], [0.0009312390466220677], [0.0008367565460503101], [0.000751905026845634]]\n"
     ]
    }
   ],
   "source": [
    "# demonstrate prediction for next 30 days\n",
    "from numpy import array\n",
    "\n",
    "lst_output=[]\n",
    "n_steps=100\n",
    "i=0\n",
    "while(i<30):\n",
    "    if(len(temp_input)>100):\n",
    "        #print(temp_input)\n",
    "        X_input=np.array(temp_input[1:])\n",
    "        print(\"{}day input {}\".format(i,X_input))\n",
    "        X_input=X_input.reshape(1,-1)\n",
    "        X_input=X_input.reshape(1,n_steps,1)\n",
    "        #print(x_input)\n",
    "        yhat=model.predict(X_input,verbose=0)\n",
    "        print(\"{} day out {}\".format(i,yhat))\n",
    "        temp_input.extend(yhat[0].tolist())\n",
    "        temp_input=temp_input[1:]\n",
    "        #print(temp_input)\n",
    "        lst_output.extend(yhat.tolist())\n",
    "        i=i+1\n",
    "    else:\n",
    "        X_input = X_input.reshape((1,n_steps,1))\n",
    "        yhat = model.predict(X_input , verbose=0)\n",
    "        print(yhat[0])\n",
    "        temp_input.extend(yhat[0].tolist())\n",
    "        print(len(temp_input))\n",
    "        lst_output.extend(yhat.tolist())\n",
    "        i=i+1\n",
    "        \n",
    "print(lst_output)\n",
    "        \n",
    "        "
   ]
  },
  {
   "cell_type": "code",
   "execution_count": 32,
   "id": "coordinate-entrance",
   "metadata": {},
   "outputs": [],
   "source": [
    "day_new=np.arange(1,101)\n",
    "day_pred=np.arange(101,131)"
   ]
  },
  {
   "cell_type": "code",
   "execution_count": 33,
   "id": "fluid-manufacturer",
   "metadata": {},
   "outputs": [],
   "source": [
    "import matplotlib.pyplot as plt"
   ]
  },
  {
   "cell_type": "code",
   "execution_count": 34,
   "id": "square-tennis",
   "metadata": {},
   "outputs": [
    {
     "data": {
      "text/plain": [
       "2049"
      ]
     },
     "execution_count": 34,
     "metadata": {},
     "output_type": "execute_result"
    }
   ],
   "source": [
    "len(dataset2)"
   ]
  },
  {
   "cell_type": "code",
   "execution_count": 35,
   "id": "nuclear-archive",
   "metadata": {},
   "outputs": [],
   "source": [
    "dataset3=dataset2.tolist()\n",
    "dataset3.extend(lst_output)"
   ]
  },
  {
   "cell_type": "code",
   "execution_count": 36,
   "id": "above-breakfast",
   "metadata": {},
   "outputs": [
    {
     "data": {
      "text/plain": [
       "[<matplotlib.lines.Line2D at 0x7fd8b030bf10>]"
      ]
     },
     "execution_count": 36,
     "metadata": {},
     "output_type": "execute_result"
    },
    {
     "data": {
      "image/png": "[encoded data removed]",
      "text/plain": [
       "<Figure size 432x288 with 1 Axes>"
      ]
     },
     "metadata": {
      "needs_background": "light"
     },
     "output_type": "display_data"
    }
   ],
   "source": [
    "plt.plot(day_new,scaler.inverse_transform(dataset2[1949:]))\n",
    "plt.plot(day_pred,scaler.inverse_transform(lst_output))"
   ]
  },
  {
   "cell_type": "code",
   "execution_count": 38,
   "id": "mineral-printing",
   "metadata": {},
   "outputs": [
    {
     "data": {
      "text/plain": [
       "[<matplotlib.lines.Line2D at 0x7fd8b028e730>]"
      ]
     },
     "execution_count": 38,
     "metadata": {},
     "output_type": "execute_result"
    },
    {
     "data": {
      "image/png": "[encoded data removed]",
      "text/plain": [
       "<Figure size 432x288 with 1 Axes>"
      ]
     },
     "metadata": {
      "needs_background": "light"
     },
     "output_type": "display_data"
    }
   ],
   "source": [
    "dataset3=dataset2.tolist()\n",
    "dataset3.extend(lst_output)\n",
    "plt.plot(dataset3[2049:])"
   ]
  },
  {
   "cell_type": "code",
   "execution_count": null,
   "id": "rubber-context",
   "metadata": {},
   "outputs": [],
   "source": []
  },
  {
   "cell_type": "code",
   "execution_count": null,
   "id": "apparent-sydney",
   "metadata": {},
   "outputs": [],
   "source": []
  },
  {
   "cell_type": "code",
   "execution_count": null,
   "id": "municipal-billion",
   "metadata": {},
   "outputs": [],
   "source": []
  },
  {
   "cell_type": "code",
   "execution_count": null,
   "id": "consistent-matter",
   "metadata": {},
   "outputs": [],
   "source": []
  }
 ],
 "metadata": {
  "kernelspec": {
   "display_name": "Python 3",
   "language": "python",
   "name": "python3"
  },
  "language_info": {
   "codemirror_mode": {
    "name": "ipython",
    "version": 3
   },
   "file_extension": ".py",
   "mimetype": "text/x-python",
   "name": "python",
   "nbconvert_exporter": "python",
   "pygments_lexer": "ipython3",
   "version": "3.8.5"
  }
 },
 "nbformat": 4,
 "nbformat_minor": 5
}
