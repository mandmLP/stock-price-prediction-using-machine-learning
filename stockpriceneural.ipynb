{
 "cells": [
  {
   "cell_type": "code",
   "execution_count": 9,
   "id": "approximate-uruguay",
   "metadata": {},
   "outputs": [],
   "source": [
    "import numpy as np\n",
    "import matplotlib.pyplot as plt\n",
    "import pandas as pd\n",
    "import pandas_datareader.data as web\n",
    "import datetime as dt"
   ]
  },
  {
   "cell_type": "code",
   "execution_count": 10,
   "id": "liable-victor",
   "metadata": {},
   "outputs": [],
   "source": [
    "from sklearn.preprocessing import MinMaxScaler\n",
    "from tensorflow.keras.models import Sequential\n",
    "from tensorflow.keras.layers import Dense , Dropout , LSTM"
   ]
  },
  {
   "cell_type": "code",
   "execution_count": 11,
   "id": "median-humanity",
   "metadata": {},
   "outputs": [],
   "source": [
    "# load data\n",
    "company = 'FB'"
   ]
  },
  {
   "cell_type": "code",
   "execution_count": 12,
   "id": "silver-thanks",
   "metadata": {},
   "outputs": [],
   "source": [
    "start = dt.datetime(2012, 1, 1)\n",
    "end = dt.datetime(2021, 4, 30)"
   ]
  },
  {
   "cell_type": "code",
   "execution_count": 13,
   "id": "front-denmark",
   "metadata": {},
   "outputs": [],
   "source": [
    "data = web.DataReader(company , 'yahoo' , start , end)"
   ]
  },
  {
   "cell_type": "code",
   "execution_count": 14,
   "id": "precious-fleece",
   "metadata": {},
   "outputs": [],
   "source": [
    "#prepare data\n",
    "scaler = MinMaxScaler(feature_range=(0,1))\n",
    "scaled_data = scaler.fit_transform(data['Close'].values.reshape(-1,1))\n",
    "prediction_days = 60\n",
    "\n",
    "x_train = []\n",
    "y_train = []\n",
    "\n",
    "for x in range(prediction_days,len(scaled_data)):\n",
    "    x_train.append(scaled_data[x-prediction_days:x,0])\n",
    "    y_train.append(scaled_data[x,0])\n",
    "\n",
    "\n",
    "x_train , y_train = np.array(x_train) , np.array(y_train)\n",
    "x_train = np.reshape(x_train , (x_train.shape[0] , x_train.shape[1], 1))\n"
   ]
  },
  {
   "cell_type": "code",
   "execution_count": 15,
   "id": "mobile-female",
   "metadata": {},
   "outputs": [
    {
     "name": "stdout",
     "output_type": "stream",
     "text": [
      "Epoch 1/25\n",
      "69/69 [==============================] - 32s 242ms/step - loss: 0.0363\n",
      "Epoch 2/25\n",
      "69/69 [==============================] - 17s 244ms/step - loss: 0.0026\n",
      "Epoch 3/25\n",
      "69/69 [==============================] - 22s 318ms/step - loss: 0.0021\n",
      "Epoch 4/25\n",
      "69/69 [==============================] - 27s 396ms/step - loss: 0.0020\n",
      "Epoch 5/25\n",
      "69/69 [==============================] - 31s 457ms/step - loss: 0.0020\n",
      "Epoch 6/25\n",
      "69/69 [==============================] - 31s 452ms/step - loss: 0.0016\n",
      "Epoch 7/25\n",
      "69/69 [==============================] - 29s 427ms/step - loss: 0.0018\n",
      "Epoch 8/25\n",
      "69/69 [==============================] - 31s 453ms/step - loss: 0.0017\n",
      "Epoch 9/25\n",
      "69/69 [==============================] - 30s 428ms/step - loss: 0.0018\n",
      "Epoch 10/25\n",
      "69/69 [==============================] - 30s 431ms/step - loss: 0.0018\n",
      "Epoch 11/25\n",
      "69/69 [==============================] - 31s 443ms/step - loss: 0.0019\n",
      "Epoch 12/25\n",
      "69/69 [==============================] - 30s 435ms/step - loss: 0.0016\n",
      "Epoch 13/25\n",
      "69/69 [==============================] - 17s 245ms/step - loss: 0.0014\n",
      "Epoch 14/25\n",
      "69/69 [==============================] - 16s 234ms/step - loss: 0.0014\n",
      "Epoch 15/25\n",
      "69/69 [==============================] - 17s 240ms/step - loss: 0.0015\n",
      "Epoch 16/25\n",
      "69/69 [==============================] - 16s 236ms/step - loss: 0.0014\n",
      "Epoch 17/25\n",
      "69/69 [==============================] - 16s 234ms/step - loss: 0.0013\n",
      "Epoch 18/25\n",
      "69/69 [==============================] - 22s 315ms/step - loss: 0.0013\n",
      "Epoch 19/25\n",
      "69/69 [==============================] - 23s 326ms/step - loss: 0.0013\n",
      "Epoch 20/25\n",
      "69/69 [==============================] - 18s 256ms/step - loss: 0.0013\n",
      "Epoch 21/25\n",
      "69/69 [==============================] - 17s 242ms/step - loss: 0.0011\n",
      "Epoch 22/25\n",
      "69/69 [==============================] - 17s 242ms/step - loss: 0.0015\n",
      "Epoch 23/25\n",
      "69/69 [==============================] - 17s 240ms/step - loss: 0.0015\n",
      "Epoch 24/25\n",
      "69/69 [==============================] - 17s 241ms/step - loss: 0.0012\n",
      "Epoch 25/25\n",
      "69/69 [==============================] - 17s 240ms/step - loss: 0.0013\n"
     ]
    },
    {
     "data": {
      "text/plain": [
       "<tensorflow.python.keras.callbacks.History at 0x7f49ed014df0>"
      ]
     },
     "execution_count": 15,
     "metadata": {},
     "output_type": "execute_result"
    }
   ],
   "source": [
    "# build The Mobel\n",
    "model = Sequential()\n",
    "\n",
    "model.add(LSTM(units=50,return_sequences=True , input_shape=(x_train.shape[1] , 1)))\n",
    "model.add(Dropout(0.2))\n",
    "model.add(LSTM(units=50,return_sequences=True ))\n",
    "model.add(Dropout(0.2))\n",
    "model.add(LSTM(units=50))\n",
    "model.add(Dropout(0.2))\n",
    "model.add(Dense(units=1)) #predict of the next closing price\n",
    "\n",
    "model.compile(optimizer='adam' , loss='mean_squared_error')\n",
    "model.fit(x_train, y_train , epochs=25, batch_size=32)\n"
   ]
  },
  {
   "cell_type": "code",
   "execution_count": 16,
   "id": "organizational-therapist",
   "metadata": {},
   "outputs": [],
   "source": [
    "#test the model accuricey on exesting data\n",
    "\n",
    "#Loading test data\n",
    "test_start = dt.datetime(2020, 1 , 1 )\n",
    "test_end = dt.datetime.now()\n",
    "\n",
    "test_data = web.DataReader(company , 'yahoo' , test_start , test_end)\n",
    "actual_prices = test_data['Close'].values\n",
    "\n",
    "total_dataset = pd.concat((data['Close'], test_data['Close']), axis=0)\n",
    "\n",
    "model_inputs  = total_dataset[len(total_dataset) - len(test_data) - prediction_days:].values\n",
    "model_inputs = model_inputs.reshape(-1,1)\n",
    "model_inputs = scaler.transform(model_inputs)\n"
   ]
  },
  {
   "cell_type": "code",
   "execution_count": 17,
   "id": "electrical-sandwich",
   "metadata": {},
   "outputs": [],
   "source": [
    "# make prediction on test data\n",
    "\n",
    "x_test = []\n",
    "\n",
    "for x in range(prediction_days, len(model_inputs)):\n",
    "    x_test.append(model_inputs[x-prediction_days:x , 0])\n",
    "\n",
    "x_test = np.array(x_test)\n",
    "x_test = np.reshape(x_test , (x_test.shape[0] , x_test.shape[1], 1))\n",
    "\n",
    "predicted_prices = model.predict(x_test)\n",
    "predicted_prices = scaler.inverse_transform(predicted_prices)\n"
   ]
  },
  {
   "cell_type": "code",
   "execution_count": 20,
   "id": "virtual-archive",
   "metadata": {},
   "outputs": [
    {
     "data": {
      "image/png": "[encoded data removed]",
      "text/plain": [
       "<Figure size 432x288 with 1 Axes>"
      ]
     },
     "metadata": {
      "needs_background": "light"
     },
     "output_type": "display_data"
    }
   ],
   "source": [
    "# plot the prediction \n",
    "plt.plot(actual_prices , color=\"black\", label=f\"Actal {company} price\")\n",
    "plt.plot(predicted_prices, color='green', label=f\"Predicted {company} Price\")\n",
    "plt.title(f\"{company} share price\")\n",
    "plt.xlabel('Time')\n",
    "plt.ylabel(f'{company} share price')\n",
    "plt.legend()\n",
    "plt.show()\n"
   ]
  },
  {
   "cell_type": "code",
   "execution_count": 23,
   "id": "human-quilt",
   "metadata": {},
   "outputs": [
    {
     "name": "stdout",
     "output_type": "stream",
     "text": [
      "prediction:[[311.25058]]\n"
     ]
    }
   ],
   "source": [
    "#predict the next day\n",
    "real_data = [model_inputs[len(model_inputs) + - prediction_days:len(model_inputs+1), 0]]\n",
    "real_data = np.array(real_data)\n",
    "real_data = np.reshape(real_data, (real_data.shape[0], real_data.shape[1],1))\n",
    "\n",
    "prediction = model.predict(real_data)\n",
    "prediction = scaler.inverse_transform(prediction)\n",
    "print(f\"prediction:{prediction}\")"
   ]
  },
  {
   "cell_type": "code",
   "execution_count": null,
   "id": "lesbian-revolution",
   "metadata": {},
   "outputs": [],
   "source": []
  }
 ],
 "metadata": {
  "kernelspec": {
   "display_name": "Python 3",
   "language": "python",
   "name": "python3"
  },
  "language_info": {
   "codemirror_mode": {
    "name": "ipython",
    "version": 3
   },
   "file_extension": ".py",
   "mimetype": "text/x-python",
   "name": "python",
   "nbconvert_exporter": "python",
   "pygments_lexer": "ipython3",
   "version": "3.8.5"
  }
 },
 "nbformat": 4,
 "nbformat_minor": 5
}
